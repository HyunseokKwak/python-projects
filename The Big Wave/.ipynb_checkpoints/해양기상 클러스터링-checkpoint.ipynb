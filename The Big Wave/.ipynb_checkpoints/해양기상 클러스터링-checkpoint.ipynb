{
 "cells": [
  {
   "cell_type": "code",
   "execution_count": 1,
   "metadata": {},
   "outputs": [],
   "source": [
    "import pandas as pd\n",
    "import numpy as np\n",
    "import matplotlib.pyplot as plt\n",
    "from matplotlib import cm\n",
    "%matplotlib inline\n",
    "import re\n",
    "\n",
    "from sklearn.cluster import KMeans\n",
    "from sklearn.metrics import silhouette_samples\n",
    "from sklearn.metrics import silhouette_score"
   ]
  },
  {
   "cell_type": "markdown",
   "metadata": {},
   "source": [
    "### 전처리"
   ]
  },
  {
   "cell_type": "code",
   "execution_count": 2,
   "metadata": {},
   "outputs": [],
   "source": [
    "buoy = pd.read_csv('buoy.csv',encoding='utf-8')"
   ]
  },
  {
   "cell_type": "code",
   "execution_count": 3,
   "metadata": {},
   "outputs": [
    {
     "data": {
      "text/html": [
       "<div>\n",
       "<style scoped>\n",
       "    .dataframe tbody tr th:only-of-type {\n",
       "        vertical-align: middle;\n",
       "    }\n",
       "\n",
       "    .dataframe tbody tr th {\n",
       "        vertical-align: top;\n",
       "    }\n",
       "\n",
       "    .dataframe thead th {\n",
       "        text-align: right;\n",
       "    }\n",
       "</style>\n",
       "<table border=\"1\" class=\"dataframe\">\n",
       "  <thead>\n",
       "    <tr style=\"text-align: right;\">\n",
       "      <th></th>\n",
       "      <th>Unnamed: 0</th>\n",
       "      <th>loc</th>\n",
       "      <th>year</th>\n",
       "      <th>month</th>\n",
       "      <th>day</th>\n",
       "      <th>유의파고 평균</th>\n",
       "      <th>최대파고 최고</th>\n",
       "      <th>최대파고 시간</th>\n",
       "      <th>파주기 평균</th>\n",
       "      <th>파주기 최고</th>\n",
       "      <th>평균풍속</th>\n",
       "      <th>평균 현지기압</th>\n",
       "      <th>평균습도</th>\n",
       "      <th>평균기온</th>\n",
       "      <th>평균수온</th>\n",
       "    </tr>\n",
       "  </thead>\n",
       "  <tbody>\n",
       "    <tr>\n",
       "      <th>7380</th>\n",
       "      <td>7380</td>\n",
       "      <td>22185</td>\n",
       "      <td>2018</td>\n",
       "      <td>4</td>\n",
       "      <td>월</td>\n",
       "      <td>0.7</td>\n",
       "      <td>1.9</td>\n",
       "      <td>NaN</td>\n",
       "      <td>5</td>\n",
       "      <td>6.6</td>\n",
       "      <td>NaN</td>\n",
       "      <td>1016.1</td>\n",
       "      <td>85</td>\n",
       "      <td>8</td>\n",
       "      <td>7</td>\n",
       "    </tr>\n",
       "    <tr>\n",
       "      <th>8767</th>\n",
       "      <td>8767</td>\n",
       "      <td>22188</td>\n",
       "      <td>2017</td>\n",
       "      <td>2</td>\n",
       "      <td>11</td>\n",
       "      <td>1.9</td>\n",
       "      <td>3.7</td>\n",
       "      <td>22</td>\n",
       "      <td>5</td>\n",
       "      <td>5.8</td>\n",
       "      <td>11.6</td>\n",
       "      <td>1022.7</td>\n",
       "      <td>60</td>\n",
       "      <td>1.7</td>\n",
       "      <td>10</td>\n",
       "    </tr>\n",
       "    <tr>\n",
       "      <th>6488</th>\n",
       "      <td>6488</td>\n",
       "      <td>22184</td>\n",
       "      <td>2017</td>\n",
       "      <td>7</td>\n",
       "      <td>월</td>\n",
       "      <td>0.9</td>\n",
       "      <td>2.1</td>\n",
       "      <td>NaN</td>\n",
       "      <td>6</td>\n",
       "      <td>7.3</td>\n",
       "      <td>5.3</td>\n",
       "      <td>1007.1</td>\n",
       "      <td>90</td>\n",
       "      <td>26.7</td>\n",
       "      <td>26.5</td>\n",
       "    </tr>\n",
       "    <tr>\n",
       "      <th>348</th>\n",
       "      <td>348</td>\n",
       "      <td>21229</td>\n",
       "      <td>2017</td>\n",
       "      <td>10</td>\n",
       "      <td>6</td>\n",
       "      <td>1.2</td>\n",
       "      <td>2.8</td>\n",
       "      <td>18</td>\n",
       "      <td>5.2</td>\n",
       "      <td>5.8</td>\n",
       "      <td>6</td>\n",
       "      <td>1020</td>\n",
       "      <td>80</td>\n",
       "      <td>19.6</td>\n",
       "      <td>21.3</td>\n",
       "    </tr>\n",
       "    <tr>\n",
       "      <th>5071</th>\n",
       "      <td>5071</td>\n",
       "      <td>22108</td>\n",
       "      <td>2017</td>\n",
       "      <td>2</td>\n",
       "      <td>22</td>\n",
       "      <td>1.1</td>\n",
       "      <td>4</td>\n",
       "      <td>24</td>\n",
       "      <td>4.7</td>\n",
       "      <td>6.4</td>\n",
       "      <td>8.6</td>\n",
       "      <td>1015.7</td>\n",
       "      <td>80</td>\n",
       "      <td>3.9</td>\n",
       "      <td>5.1</td>\n",
       "    </tr>\n",
       "    <tr>\n",
       "      <th>3267</th>\n",
       "      <td>3267</td>\n",
       "      <td>22105</td>\n",
       "      <td>2017</td>\n",
       "      <td>4</td>\n",
       "      <td>7</td>\n",
       "      <td>0.8</td>\n",
       "      <td>2</td>\n",
       "      <td>2</td>\n",
       "      <td>5.8</td>\n",
       "      <td>8</td>\n",
       "      <td>2.9</td>\n",
       "      <td>1014.2]</td>\n",
       "      <td>81</td>\n",
       "      <td>14</td>\n",
       "      <td>14</td>\n",
       "    </tr>\n",
       "    <tr>\n",
       "      <th>6646</th>\n",
       "      <td>6646</td>\n",
       "      <td>22184</td>\n",
       "      <td>2018</td>\n",
       "      <td>1</td>\n",
       "      <td>19</td>\n",
       "      <td>0.8</td>\n",
       "      <td>1.8</td>\n",
       "      <td>8</td>\n",
       "      <td>3.9</td>\n",
       "      <td>4.3</td>\n",
       "      <td>7</td>\n",
       "      <td>1022.5</td>\n",
       "      <td>51</td>\n",
       "      <td>5.4</td>\n",
       "      <td>14.1</td>\n",
       "    </tr>\n",
       "    <tr>\n",
       "      <th>5015</th>\n",
       "      <td>5015</td>\n",
       "      <td>22108</td>\n",
       "      <td>2017</td>\n",
       "      <td>1</td>\n",
       "      <td>3</td>\n",
       "      <td>x</td>\n",
       "      <td>x</td>\n",
       "      <td>x</td>\n",
       "      <td>x</td>\n",
       "      <td>x</td>\n",
       "      <td>x</td>\n",
       "      <td>x</td>\n",
       "      <td>x</td>\n",
       "      <td>x</td>\n",
       "      <td>x</td>\n",
       "    </tr>\n",
       "    <tr>\n",
       "      <th>9091</th>\n",
       "      <td>9091</td>\n",
       "      <td>22188</td>\n",
       "      <td>2017</td>\n",
       "      <td>12</td>\n",
       "      <td>26</td>\n",
       "      <td>1.4</td>\n",
       "      <td>3.7</td>\n",
       "      <td>24</td>\n",
       "      <td>4.9</td>\n",
       "      <td>9.1</td>\n",
       "      <td>10.6</td>\n",
       "      <td>1023.6</td>\n",
       "      <td>57</td>\n",
       "      <td>5.3</td>\n",
       "      <td>12</td>\n",
       "    </tr>\n",
       "    <tr>\n",
       "      <th>4881</th>\n",
       "      <td>4881</td>\n",
       "      <td>22107</td>\n",
       "      <td>2018</td>\n",
       "      <td>4</td>\n",
       "      <td>7</td>\n",
       "      <td>3.6</td>\n",
       "      <td>7.5</td>\n",
       "      <td>7</td>\n",
       "      <td>8.4</td>\n",
       "      <td>9.1</td>\n",
       "      <td>11.4</td>\n",
       "      <td>1020.4</td>\n",
       "      <td>58</td>\n",
       "      <td>8.6</td>\n",
       "      <td>15.3</td>\n",
       "    </tr>\n",
       "  </tbody>\n",
       "</table>\n",
       "</div>"
      ],
      "text/plain": [
       "      Unnamed: 0    loc  year  month day 유의파고 평균 최대파고 최고 최대파고 시간 파주기 평균  \\\n",
       "7380        7380  22185  2018      4   월     0.7     1.9     NaN      5   \n",
       "8767        8767  22188  2017      2  11     1.9     3.7      22      5   \n",
       "6488        6488  22184  2017      7   월     0.9     2.1     NaN      6   \n",
       "348          348  21229  2017     10   6     1.2     2.8      18    5.2   \n",
       "5071        5071  22108  2017      2  22     1.1       4      24    4.7   \n",
       "3267        3267  22105  2017      4   7     0.8       2       2    5.8   \n",
       "6646        6646  22184  2018      1  19     0.8     1.8       8    3.9   \n",
       "5015        5015  22108  2017      1   3       x       x       x      x   \n",
       "9091        9091  22188  2017     12  26     1.4     3.7      24    4.9   \n",
       "4881        4881  22107  2018      4   7     3.6     7.5       7    8.4   \n",
       "\n",
       "     파주기 최고  평균풍속  평균 현지기압 평균습도  평균기온  평균수온  \n",
       "7380    6.6   NaN   1016.1   85     8     7  \n",
       "8767    5.8  11.6   1022.7   60   1.7    10  \n",
       "6488    7.3   5.3   1007.1   90  26.7  26.5  \n",
       "348     5.8     6     1020   80  19.6  21.3  \n",
       "5071    6.4   8.6   1015.7   80   3.9   5.1  \n",
       "3267      8   2.9  1014.2]   81    14    14  \n",
       "6646    4.3     7   1022.5   51   5.4  14.1  \n",
       "5015      x     x        x    x     x     x  \n",
       "9091    9.1  10.6   1023.6   57   5.3    12  \n",
       "4881    9.1  11.4   1020.4   58   8.6  15.3  "
      ]
     },
     "execution_count": 3,
     "metadata": {},
     "output_type": "execute_result"
    }
   ],
   "source": [
    "buoy.sample(10)"
   ]
  },
  {
   "cell_type": "code",
   "execution_count": 4,
   "metadata": {},
   "outputs": [],
   "source": [
    "buoy.drop('Unnamed: 0', axis=1, inplace=True)"
   ]
  },
  {
   "cell_type": "code",
   "execution_count": 5,
   "metadata": {},
   "outputs": [],
   "source": [
    "buoy.columns = ['stn', 'year', 'month', 'day', '유의파고 평균', '최대파고 최고', '최대파고 시간',\n",
    "       '파주기 평균', '파주기 최고', '평균풍속', '평균 현지기압', '평균습도', '평균기온', '평균수온']# 칼럼명 loc이 메소드이름과 겹치기에 stn으로 바꾸었다"
   ]
  },
  {
   "cell_type": "code",
   "execution_count": 6,
   "metadata": {},
   "outputs": [
    {
     "name": "stdout",
     "output_type": "stream",
     "text": [
      "<class 'pandas.core.frame.DataFrame'>\n",
      "RangeIndex: 10506 entries, 0 to 10505\n",
      "Data columns (total 14 columns):\n",
      "stn        10506 non-null int64\n",
      "year       10506 non-null int64\n",
      "month      10506 non-null int64\n",
      "day        10506 non-null object\n",
      "유의파고 평균    10384 non-null object\n",
      "최대파고 최고    10385 non-null object\n",
      "최대파고 시간    9193 non-null object\n",
      "파주기 평균     10374 non-null object\n",
      "파주기 최고     10374 non-null object\n",
      "평균풍속       10328 non-null object\n",
      "평균 현지기압    10354 non-null object\n",
      "평균습도       10275 non-null object\n",
      "평균기온       10344 non-null object\n",
      "평균수온       10370 non-null object\n",
      "dtypes: int64(3), object(11)\n",
      "memory usage: 1.1+ MB\n"
     ]
    }
   ],
   "source": [
    "buoy.info()"
   ]
  },
  {
   "cell_type": "code",
   "execution_count": 7,
   "metadata": {},
   "outputs": [],
   "source": [
    "buoy.stn = buoy.stn.astype('category') "
   ]
  },
  {
   "cell_type": "code",
   "execution_count": 8,
   "metadata": {},
   "outputs": [
    {
     "data": {
      "text/html": [
       "<div>\n",
       "<style scoped>\n",
       "    .dataframe tbody tr th:only-of-type {\n",
       "        vertical-align: middle;\n",
       "    }\n",
       "\n",
       "    .dataframe tbody tr th {\n",
       "        vertical-align: top;\n",
       "    }\n",
       "\n",
       "    .dataframe thead th {\n",
       "        text-align: right;\n",
       "    }\n",
       "</style>\n",
       "<table border=\"1\" class=\"dataframe\">\n",
       "  <thead>\n",
       "    <tr style=\"text-align: right;\">\n",
       "      <th></th>\n",
       "      <th>stn</th>\n",
       "    </tr>\n",
       "  </thead>\n",
       "  <tbody>\n",
       "    <tr>\n",
       "      <th>count</th>\n",
       "      <td>10506</td>\n",
       "    </tr>\n",
       "    <tr>\n",
       "      <th>unique</th>\n",
       "      <td>17</td>\n",
       "    </tr>\n",
       "    <tr>\n",
       "      <th>top</th>\n",
       "      <td>22190</td>\n",
       "    </tr>\n",
       "    <tr>\n",
       "      <th>freq</th>\n",
       "      <td>618</td>\n",
       "    </tr>\n",
       "  </tbody>\n",
       "</table>\n",
       "</div>"
      ],
      "text/plain": [
       "          stn\n",
       "count   10506\n",
       "unique     17\n",
       "top     22190\n",
       "freq      618"
      ]
     },
     "execution_count": 8,
     "metadata": {},
     "output_type": "execute_result"
    }
   ],
   "source": [
    "buoy.describe(include='category') #17개의 관측지점"
   ]
  },
  {
   "cell_type": "code",
   "execution_count": 9,
   "metadata": {},
   "outputs": [],
   "source": [
    "#re를 이용해 불필요한 문자 정보를 제거한다\n",
    "buoy.replace(to_replace = '[>]',value=r'',regex=True,inplace=True)\n",
    "buoy.replace(to_replace = '[)]',value=r'',regex=True,inplace=True)\n",
    "buoy.replace(to_replace = '[]]',value=r'',regex=True,inplace=True)\n",
    "buoy.replace(to_replace = '[x]',value=np.nan,regex=True,inplace=True)\n",
    "buoy.replace(to_replace = '[null]',value=np.nan,regex=True,inplace=True)\n",
    "buoy.replace(to_replace = '',value=np.nan,regex=True,inplace=True)"
   ]
  },
  {
   "cell_type": "code",
   "execution_count": 10,
   "metadata": {},
   "outputs": [],
   "source": [
    "buoy.iloc[:,4:] = buoy.iloc[:,4:].astype('float64')"
   ]
  },
  {
   "cell_type": "markdown",
   "metadata": {},
   "source": [
    "데이터가 월별보고 이므로 상순,중순,하순,월 별 평균값이 존재한다\n",
    "\n",
    "필요없는 데이터이므로 제거한다"
   ]
  },
  {
   "cell_type": "code",
   "execution_count": 11,
   "metadata": {},
   "outputs": [
    {
     "data": {
      "text/html": [
       "<div>\n",
       "<style scoped>\n",
       "    .dataframe tbody tr th:only-of-type {\n",
       "        vertical-align: middle;\n",
       "    }\n",
       "\n",
       "    .dataframe tbody tr th {\n",
       "        vertical-align: top;\n",
       "    }\n",
       "\n",
       "    .dataframe thead th {\n",
       "        text-align: right;\n",
       "    }\n",
       "</style>\n",
       "<table border=\"1\" class=\"dataframe\">\n",
       "  <thead>\n",
       "    <tr style=\"text-align: right;\">\n",
       "      <th></th>\n",
       "      <th>stn</th>\n",
       "      <th>year</th>\n",
       "      <th>month</th>\n",
       "      <th>day</th>\n",
       "      <th>유의파고 평균</th>\n",
       "      <th>최대파고 최고</th>\n",
       "      <th>최대파고 시간</th>\n",
       "      <th>파주기 평균</th>\n",
       "      <th>파주기 최고</th>\n",
       "      <th>평균풍속</th>\n",
       "      <th>평균 현지기압</th>\n",
       "      <th>평균습도</th>\n",
       "      <th>평균기온</th>\n",
       "      <th>평균수온</th>\n",
       "    </tr>\n",
       "  </thead>\n",
       "  <tbody>\n",
       "    <tr>\n",
       "      <th>10</th>\n",
       "      <td>21229</td>\n",
       "      <td>2016</td>\n",
       "      <td>11</td>\n",
       "      <td>상순</td>\n",
       "      <td>2.1</td>\n",
       "      <td>4.8</td>\n",
       "      <td>NaN</td>\n",
       "      <td>7.3</td>\n",
       "      <td>8.6</td>\n",
       "      <td>8.1</td>\n",
       "      <td>1021.4</td>\n",
       "      <td>63.0</td>\n",
       "      <td>12.3</td>\n",
       "      <td>19.2</td>\n",
       "    </tr>\n",
       "    <tr>\n",
       "      <th>21</th>\n",
       "      <td>21229</td>\n",
       "      <td>2016</td>\n",
       "      <td>11</td>\n",
       "      <td>중순</td>\n",
       "      <td>1.4</td>\n",
       "      <td>3.2</td>\n",
       "      <td>NaN</td>\n",
       "      <td>6.2</td>\n",
       "      <td>8.7</td>\n",
       "      <td>6.0</td>\n",
       "      <td>1018.8</td>\n",
       "      <td>66.0</td>\n",
       "      <td>15.3</td>\n",
       "      <td>18.1</td>\n",
       "    </tr>\n",
       "    <tr>\n",
       "      <th>32</th>\n",
       "      <td>21229</td>\n",
       "      <td>2016</td>\n",
       "      <td>11</td>\n",
       "      <td>하순</td>\n",
       "      <td>1.9</td>\n",
       "      <td>4.5</td>\n",
       "      <td>NaN</td>\n",
       "      <td>6.8</td>\n",
       "      <td>8.3</td>\n",
       "      <td>7.4</td>\n",
       "      <td>1022.4</td>\n",
       "      <td>64.0</td>\n",
       "      <td>9.8</td>\n",
       "      <td>17.8</td>\n",
       "    </tr>\n",
       "    <tr>\n",
       "      <th>33</th>\n",
       "      <td>21229</td>\n",
       "      <td>2016</td>\n",
       "      <td>11</td>\n",
       "      <td>월</td>\n",
       "      <td>1.8</td>\n",
       "      <td>4.2</td>\n",
       "      <td>NaN</td>\n",
       "      <td>6.8</td>\n",
       "      <td>8.5</td>\n",
       "      <td>7.2</td>\n",
       "      <td>1020.9</td>\n",
       "      <td>64.0</td>\n",
       "      <td>12.5</td>\n",
       "      <td>18.4</td>\n",
       "    </tr>\n",
       "    <tr>\n",
       "      <th>44</th>\n",
       "      <td>21229</td>\n",
       "      <td>2016</td>\n",
       "      <td>12</td>\n",
       "      <td>상순</td>\n",
       "      <td>1.9</td>\n",
       "      <td>4.6</td>\n",
       "      <td>NaN</td>\n",
       "      <td>6.7</td>\n",
       "      <td>8.1</td>\n",
       "      <td>7.4</td>\n",
       "      <td>1019.0</td>\n",
       "      <td>57.0</td>\n",
       "      <td>10.8</td>\n",
       "      <td>16.3</td>\n",
       "    </tr>\n",
       "  </tbody>\n",
       "</table>\n",
       "</div>"
      ],
      "text/plain": [
       "      stn  year  month day  유의파고 평균  최대파고 최고  최대파고 시간  파주기 평균  파주기 최고  평균풍속  \\\n",
       "10  21229  2016     11  상순      2.1      4.8      NaN     7.3     8.6   8.1   \n",
       "21  21229  2016     11  중순      1.4      3.2      NaN     6.2     8.7   6.0   \n",
       "32  21229  2016     11  하순      1.9      4.5      NaN     6.8     8.3   7.4   \n",
       "33  21229  2016     11   월      1.8      4.2      NaN     6.8     8.5   7.2   \n",
       "44  21229  2016     12  상순      1.9      4.6      NaN     6.7     8.1   7.4   \n",
       "\n",
       "    평균 현지기압  평균습도  평균기온  평균수온  \n",
       "10   1021.4  63.0  12.3  19.2  \n",
       "21   1018.8  66.0  15.3  18.1  \n",
       "32   1022.4  64.0   9.8  17.8  \n",
       "33   1020.9  64.0  12.5  18.4  \n",
       "44   1019.0  57.0  10.8  16.3  "
      ]
     },
     "execution_count": 11,
     "metadata": {},
     "output_type": "execute_result"
    }
   ],
   "source": [
    "buoy[buoy.day.str.contains(r'\\D+')].head()"
   ]
  },
  {
   "cell_type": "code",
   "execution_count": 12,
   "metadata": {},
   "outputs": [
    {
     "data": {
      "text/plain": [
       "Int64Index([   10,    21,    32,    33,    44,    55,    67,    68,    79,\n",
       "               90,\n",
       "            ...\n",
       "            10435, 10436, 10447, 10458, 10469, 10470, 10481, 10492, 10504,\n",
       "            10505],\n",
       "           dtype='int64', length=1224)"
      ]
     },
     "execution_count": 12,
     "metadata": {},
     "output_type": "execute_result"
    }
   ],
   "source": [
    "buoy[buoy.day.str.contains(r'\\D+')].axes[0]"
   ]
  },
  {
   "cell_type": "code",
   "execution_count": 13,
   "metadata": {},
   "outputs": [],
   "source": [
    "indexToBeDropped = buoy[buoy.day.str.contains(r'\\D+')].axes[0]"
   ]
  },
  {
   "cell_type": "code",
   "execution_count": 14,
   "metadata": {},
   "outputs": [],
   "source": [
    "buoy.drop(index=indexToBeDropped, inplace=True)"
   ]
  },
  {
   "cell_type": "code",
   "execution_count": 15,
   "metadata": {},
   "outputs": [],
   "source": [
    "buoy.reset_index(inplace=True, drop=True)"
   ]
  },
  {
   "cell_type": "code",
   "execution_count": 16,
   "metadata": {},
   "outputs": [
    {
     "name": "stdout",
     "output_type": "stream",
     "text": [
      "<class 'pandas.core.frame.DataFrame'>\n",
      "RangeIndex: 9282 entries, 0 to 9281\n",
      "Data columns (total 14 columns):\n",
      "stn        9282 non-null int64\n",
      "year       9282 non-null int64\n",
      "month      9282 non-null int64\n",
      "day        9282 non-null object\n",
      "유의파고 평균    9072 non-null float64\n",
      "최대파고 최고    9111 non-null float64\n",
      "최대파고 시간    9111 non-null float64\n",
      "파주기 평균     9051 non-null float64\n",
      "파주기 최고     9048 non-null float64\n",
      "평균풍속       9036 non-null float64\n",
      "평균 현지기압    9073 non-null float64\n",
      "평균습도       8967 non-null float64\n",
      "평균기온       9046 non-null float64\n",
      "평균수온       9061 non-null float64\n",
      "dtypes: float64(10), int64(3), object(1)\n",
      "memory usage: 1015.3+ KB\n"
     ]
    }
   ],
   "source": [
    "buoy.info()"
   ]
  },
  {
   "cell_type": "code",
   "execution_count": 17,
   "metadata": {},
   "outputs": [
    {
     "data": {
      "text/html": [
       "<div>\n",
       "<style scoped>\n",
       "    .dataframe tbody tr th:only-of-type {\n",
       "        vertical-align: middle;\n",
       "    }\n",
       "\n",
       "    .dataframe tbody tr th {\n",
       "        vertical-align: top;\n",
       "    }\n",
       "\n",
       "    .dataframe thead th {\n",
       "        text-align: right;\n",
       "    }\n",
       "</style>\n",
       "<table border=\"1\" class=\"dataframe\">\n",
       "  <thead>\n",
       "    <tr style=\"text-align: right;\">\n",
       "      <th></th>\n",
       "      <th>유의파고 평균</th>\n",
       "      <th>최대파고 최고</th>\n",
       "      <th>최대파고 시간</th>\n",
       "      <th>파주기 평균</th>\n",
       "      <th>파주기 최고</th>\n",
       "      <th>평균풍속</th>\n",
       "      <th>평균 현지기압</th>\n",
       "      <th>평균습도</th>\n",
       "      <th>평균기온</th>\n",
       "      <th>평균수온</th>\n",
       "    </tr>\n",
       "  </thead>\n",
       "  <tbody>\n",
       "    <tr>\n",
       "      <th>count</th>\n",
       "      <td>9072.000000</td>\n",
       "      <td>9111.000000</td>\n",
       "      <td>9111.000000</td>\n",
       "      <td>9051.000000</td>\n",
       "      <td>9048.000000</td>\n",
       "      <td>9036.000000</td>\n",
       "      <td>9073.000000</td>\n",
       "      <td>8967.000000</td>\n",
       "      <td>9046.000000</td>\n",
       "      <td>9061.000000</td>\n",
       "    </tr>\n",
       "    <tr>\n",
       "      <th>mean</th>\n",
       "      <td>1.086728</td>\n",
       "      <td>2.647075</td>\n",
       "      <td>10.913401</td>\n",
       "      <td>5.610960</td>\n",
       "      <td>7.487721</td>\n",
       "      <td>5.937096</td>\n",
       "      <td>1017.959605</td>\n",
       "      <td>71.878443</td>\n",
       "      <td>12.423701</td>\n",
       "      <td>15.120042</td>\n",
       "    </tr>\n",
       "    <tr>\n",
       "      <th>std</th>\n",
       "      <td>0.752915</td>\n",
       "      <td>1.724864</td>\n",
       "      <td>8.236239</td>\n",
       "      <td>1.597871</td>\n",
       "      <td>1.798572</td>\n",
       "      <td>2.761304</td>\n",
       "      <td>7.028368</td>\n",
       "      <td>14.667394</td>\n",
       "      <td>7.234280</td>\n",
       "      <td>5.624758</td>\n",
       "    </tr>\n",
       "    <tr>\n",
       "      <th>min</th>\n",
       "      <td>0.000000</td>\n",
       "      <td>0.300000</td>\n",
       "      <td>1.000000</td>\n",
       "      <td>2.400000</td>\n",
       "      <td>3.000000</td>\n",
       "      <td>0.200000</td>\n",
       "      <td>996.700000</td>\n",
       "      <td>0.000000</td>\n",
       "      <td>-11.000000</td>\n",
       "      <td>1.100000</td>\n",
       "    </tr>\n",
       "    <tr>\n",
       "      <th>25%</th>\n",
       "      <td>0.500000</td>\n",
       "      <td>1.300000</td>\n",
       "      <td>3.000000</td>\n",
       "      <td>4.400000</td>\n",
       "      <td>6.400000</td>\n",
       "      <td>3.800000</td>\n",
       "      <td>1012.400000</td>\n",
       "      <td>61.000000</td>\n",
       "      <td>6.900000</td>\n",
       "      <td>11.900000</td>\n",
       "    </tr>\n",
       "    <tr>\n",
       "      <th>50%</th>\n",
       "      <td>0.900000</td>\n",
       "      <td>2.200000</td>\n",
       "      <td>10.000000</td>\n",
       "      <td>5.400000</td>\n",
       "      <td>7.100000</td>\n",
       "      <td>5.600000</td>\n",
       "      <td>1018.400000</td>\n",
       "      <td>71.000000</td>\n",
       "      <td>12.200000</td>\n",
       "      <td>15.100000</td>\n",
       "    </tr>\n",
       "    <tr>\n",
       "      <th>75%</th>\n",
       "      <td>1.500000</td>\n",
       "      <td>3.500000</td>\n",
       "      <td>19.000000</td>\n",
       "      <td>6.600000</td>\n",
       "      <td>9.100000</td>\n",
       "      <td>7.800000</td>\n",
       "      <td>1023.300000</td>\n",
       "      <td>84.000000</td>\n",
       "      <td>17.700000</td>\n",
       "      <td>18.700000</td>\n",
       "    </tr>\n",
       "    <tr>\n",
       "      <th>max</th>\n",
       "      <td>5.200000</td>\n",
       "      <td>12.000000</td>\n",
       "      <td>24.000000</td>\n",
       "      <td>12.700000</td>\n",
       "      <td>16.000000</td>\n",
       "      <td>17.000000</td>\n",
       "      <td>1036.600000</td>\n",
       "      <td>100.000000</td>\n",
       "      <td>33.900000</td>\n",
       "      <td>30.700000</td>\n",
       "    </tr>\n",
       "  </tbody>\n",
       "</table>\n",
       "</div>"
      ],
      "text/plain": [
       "           유의파고 평균      최대파고 최고      최대파고 시간       파주기 평균       파주기 최고  \\\n",
       "count  9072.000000  9111.000000  9111.000000  9051.000000  9048.000000   \n",
       "mean      1.086728     2.647075    10.913401     5.610960     7.487721   \n",
       "std       0.752915     1.724864     8.236239     1.597871     1.798572   \n",
       "min       0.000000     0.300000     1.000000     2.400000     3.000000   \n",
       "25%       0.500000     1.300000     3.000000     4.400000     6.400000   \n",
       "50%       0.900000     2.200000    10.000000     5.400000     7.100000   \n",
       "75%       1.500000     3.500000    19.000000     6.600000     9.100000   \n",
       "max       5.200000    12.000000    24.000000    12.700000    16.000000   \n",
       "\n",
       "              평균풍속      평균 현지기압         평균습도         평균기온         평균수온  \n",
       "count  9036.000000  9073.000000  8967.000000  9046.000000  9061.000000  \n",
       "mean      5.937096  1017.959605    71.878443    12.423701    15.120042  \n",
       "std       2.761304     7.028368    14.667394     7.234280     5.624758  \n",
       "min       0.200000   996.700000     0.000000   -11.000000     1.100000  \n",
       "25%       3.800000  1012.400000    61.000000     6.900000    11.900000  \n",
       "50%       5.600000  1018.400000    71.000000    12.200000    15.100000  \n",
       "75%       7.800000  1023.300000    84.000000    17.700000    18.700000  \n",
       "max      17.000000  1036.600000   100.000000    33.900000    30.700000  "
      ]
     },
     "execution_count": 17,
     "metadata": {},
     "output_type": "execute_result"
    }
   ],
   "source": [
    "buoy.iloc[:,4:].describe()"
   ]
  },
  {
   "cell_type": "code",
   "execution_count": 18,
   "metadata": {},
   "outputs": [],
   "source": [
    "plt.rcParams['font.family'] = 'NanumSquare' #그래프 위한 폰트설정"
   ]
  },
  {
   "cell_type": "markdown",
   "metadata": {},
   "source": [
    "### EDA"
   ]
  },
  {
   "cell_type": "code",
   "execution_count": 116,
   "metadata": {},
   "outputs": [
    {
     "data": {
      "text/plain": [
       "<matplotlib.axes._subplots.AxesSubplot at 0x20be1e37ac8>"
      ]
     },
     "execution_count": 116,
     "metadata": {},
     "output_type": "execute_result"
    },
    {
     "data": {
      "image/png": "[encoded data removed]",
      "text/plain": [
       "<matplotlib.figure.Figure at 0x20be1d38b00>"
      ]
     },
     "metadata": {},
     "output_type": "display_data"
    }
   ],
   "source": [
    "buoy.iloc[:,4:10].boxplot() # 간단하게 boxplot 그려보자"
   ]
  },
  {
   "cell_type": "code",
   "execution_count": 117,
   "metadata": {},
   "outputs": [
    {
     "data": {
      "text/plain": [
       "<matplotlib.axes._subplots.AxesSubplot at 0x20be1effc18>"
      ]
     },
     "execution_count": 117,
     "metadata": {},
     "output_type": "execute_result"
    },
    {
     "data": {
      "image/png": "[encoded data removed]",
      "text/plain": [
       "<matplotlib.figure.Figure at 0x20be0832eb8>"
      ]
     },
     "metadata": {},
     "output_type": "display_data"
    }
   ],
   "source": [
    "buoy.iloc[:,10].plot.density(title='평균현지기압')"
   ]
  },
  {
   "cell_type": "code",
   "execution_count": 118,
   "metadata": {},
   "outputs": [
    {
     "data": {
      "text/plain": [
       "<matplotlib.axes._subplots.AxesSubplot at 0x20be1b13668>"
      ]
     },
     "execution_count": 118,
     "metadata": {},
     "output_type": "execute_result"
    },
    {
     "data": {
      "image/png": "[encoded data removed]",
      "text/plain": [
       "<matplotlib.figure.Figure at 0x20be1b312e8>"
      ]
     },
     "metadata": {},
     "output_type": "display_data"
    }
   ],
   "source": [
    "buoy.iloc[:,11:].boxplot()"
   ]
  },
  {
   "cell_type": "code",
   "execution_count": null,
   "metadata": {},
   "outputs": [],
   "source": []
  },
  {
   "cell_type": "markdown",
   "metadata": {},
   "source": [
    "### Clustering"
   ]
  },
  {
   "cell_type": "code",
   "execution_count": 21,
   "metadata": {},
   "outputs": [],
   "source": [
    "buoy.drop(columns='최대파고 시간',inplace=True) # 불필요하다 여겨지는 최대파고 시간 정보를 제거했다"
   ]
  },
  {
   "cell_type": "code",
   "execution_count": 22,
   "metadata": {},
   "outputs": [],
   "source": [
    "buoy_dropped = buoy.dropna() # 클러스터링을 위해 일단 NaN 값이 있는 row를 모두 drop 시켰다"
   ]
  },
  {
   "cell_type": "code",
   "execution_count": 27,
   "metadata": {},
   "outputs": [
    {
     "data": {
      "text/plain": [
       "8703"
      ]
     },
     "execution_count": 27,
     "metadata": {},
     "output_type": "execute_result"
    }
   ],
   "source": [
    "len(buoy_dropped)"
   ]
  },
  {
   "cell_type": "code",
   "execution_count": 76,
   "metadata": {},
   "outputs": [
    {
     "name": "stdout",
     "output_type": "stream",
     "text": [
      "Index(['유의파고 평균', '최대파고 최고', '파주기 평균', '파주기 최고', '평균풍속', '평균 현지기압', '평균습도',\n",
      "       '평균기온', '평균수온'],\n",
      "      dtype='object')\n",
      "Index(['유의파고 평균', '최대파고 최고', '파주기 평균', '파주기 최고', '평균풍속', '평균 현지기압', '평균습도'], dtype='object')\n",
      "Index(['유의파고 평균', '최대파고 최고', '파주기 평균', '파주기 최고', '평균풍속'], dtype='object')\n"
     ]
    }
   ],
   "source": [
    "X0 = buoy_dropped.iloc[:,4:] #클러스터링 위한 feature selection한다, 3가지 경우로 나누어 클러스터링 해보자\n",
    "X1 = buoy_dropped.iloc[:,4:11]  \n",
    "X2 = buoy_dropped.iloc[:,4:9]\n",
    "Xs = [X0,X1,X2]\n",
    "print(Xs[0].axes[1])\n",
    "print(Xs[1].axes[1])\n",
    "print(Xs[2].axes[1])"
   ]
  },
  {
   "cell_type": "code",
   "execution_count": 77,
   "metadata": {},
   "outputs": [
    {
     "data": {
      "image/png": "[encoded data removed]",
      "text/plain": [
       "<matplotlib.figure.Figure at 0x1a8055f67b8>"
      ]
     },
     "metadata": {},
     "output_type": "display_data"
    },
    {
     "data": {
      "image/png": "[encoded data removed]",
      "text/plain": [
       "<matplotlib.figure.Figure at 0x1a8051a5ef0>"
      ]
     },
     "metadata": {},
     "output_type": "display_data"
    },
    {
     "data": {
      "image/png": "[encoded data removed]",
      "text/plain": [
       "<matplotlib.figure.Figure at 0x1a80712acc0>"
      ]
     },
     "metadata": {},
     "output_type": "display_data"
    }
   ],
   "source": [
    "for i in range(len(Xs)): #wss plotting 해본다\n",
    "    plt.figure(i)\n",
    "    distortions = [] \n",
    "    for k in range(1,8):\n",
    "        km = KMeans(n_clusters = k,\n",
    "                   init='k-means++',\n",
    "                   n_init = 100,\n",
    "                   max_iter = 300,\n",
    "                   random_state=0)\n",
    "        km.fit(Xs[i])\n",
    "        distortions.append(km.inertia_)\n",
    "    \n",
    "    plt.plot(range(1,8), distortions, marker='o')\n",
    "    plt.xlabel('Number of clusters')\n",
    "    plt.ylabel('Distortion')"
   ]
  },
  {
   "cell_type": "code",
   "execution_count": 79,
   "metadata": {},
   "outputs": [
    {
     "name": "stdout",
     "output_type": "stream",
     "text": [
      "For  Index(['유의파고 평균', '최대파고 최고', '파주기 평균', '파주기 최고', '평균풍속', '평균 현지기압', '평균습도',\n",
      "       '평균기온', '평균수온'],\n",
      "      dtype='object')\n",
      "score for 2 clusters:0.420\n",
      "score for 3 clusters:0.288\n",
      "score for 4 clusters:0.292\n",
      "For  Index(['유의파고 평균', '최대파고 최고', '파주기 평균', '파주기 최고', '평균풍속', '평균 현지기압', '평균습도'], dtype='object')\n",
      "score for 2 clusters:0.492\n",
      "score for 3 clusters:0.369\n",
      "score for 4 clusters:0.309\n",
      "For  Index(['유의파고 평균', '최대파고 최고', '파주기 평균', '파주기 최고', '평균풍속'], dtype='object')\n",
      "score for 2 clusters:0.398\n",
      "score for 3 clusters:0.317\n",
      "score for 4 clusters:0.318\n"
     ]
    }
   ],
   "source": [
    "#silhouette_score도 찍어본다\n",
    "for i in range(len(Xs)):\n",
    "    print('For ', Xs[i].axes[1])\n",
    "    for k in range(2,5):\n",
    "        km = KMeans(n_clusters = k,\n",
    "                   init='k-means++',\n",
    "                   n_init = 100,\n",
    "                   max_iter = 300,\n",
    "                   random_state=0).fit(Xs[i])\n",
    "        print(\"score for %d clusters:%.3f\" % (k, silhouette_score(Xs[i], km.labels_)))"
   ]
  },
  {
   "cell_type": "markdown",
   "metadata": {},
   "source": [
    "#### ~~스케일링~~\n",
    ">X = buoy_dropped.iloc[:,4:]\n",
    "X = (X - X.mean())/X.std()\n",
    "for k in range(2,6):\n",
    "    km = KMeans(n_clusters = k,\n",
    "               init='k-means++',\n",
    "               n_init = 100,\n",
    "               max_iter = 300,\n",
    "               random_state=0).fit(X)\n",
    "    print(\"score for %d clusters:%.3f\" % (k, silhouette_score(X, km.labels_)))"
   ]
  },
  {
   "cell_type": "code",
   "execution_count": 120,
   "metadata": {},
   "outputs": [],
   "source": [
    "#모델을 생성합니다 (k=2 or 4)\n",
    "km_wave0 = KMeans(n_clusters=2)\n",
    "km_wave1 = KMeans(n_clusters=2)\n",
    "km_wave2 = KMeans(n_clusters=4)\n",
    "# fitting 시킵니다\n",
    "model_wave0 = km_wave0.fit(Xs[0])\n",
    "model_wave1 = km_wave1.fit(Xs[1])\n",
    "model_wave2 = km_wave2.fit(Xs[2])\n",
    "\n",
    "model_waves = [model_wave0,model_wave1,model_wave2]"
   ]
  },
  {
   "cell_type": "code",
   "execution_count": 121,
   "metadata": {},
   "outputs": [],
   "source": [
    "#각 모델별로 클러스터 값을 라벨링합니다\n",
    "y_wave0 = model_wave0.predict(Xs[0]) \n",
    "y_wave1 = model_wave1.predict(Xs[1])\n",
    "y_wave2 = model_wave2.predict(Xs[2])\n",
    "\n",
    "y_waves = [y_wave0,y_wave1,y_wave2]"
   ]
  },
  {
   "cell_type": "code",
   "execution_count": 89,
   "metadata": {},
   "outputs": [],
   "source": [
    "def plotSilhouette(X, y_km): #실루엣 스코어의 시각화\n",
    "    cluster_labels = np.unique(y_km)\n",
    "    n_clusters = cluster_labels.shape[0]\n",
    "    silhouette_vals = silhouette_samples(X, y_km, metric='euclidean')\n",
    "    y_ax_lower, y_ax_upper = 0, 0\n",
    "    yticks=[]\n",
    "    \n",
    "    for i, c in enumerate(cluster_labels):\n",
    "        c_silhouette_vals = silhouette_vals[y_km==c]\n",
    "        c_silhouette_vals.sort()\n",
    "        y_ax_upper += len(c_silhouette_vals)\n",
    "        color = cm.jet(i/n_clusters)\n",
    "        \n",
    "        plt.barh(range(y_ax_lower,y_ax_upper), c_silhouette_vals, height=1.0,\n",
    "                edgecolor='none', color=color)\n",
    "        yticks.append((y_ax_lower+y_ax_upper)/2)\n",
    "        y_ax_lower += len(c_silhouette_vals)\n",
    "        \n",
    "    silhouette_avg = np.mean(silhouette_vals)\n",
    "    plt.axvline(silhouette_avg, color = 'red', linestyle='--')\n",
    "    plt.yticks(yticks, cluster_labels)\n",
    "    plt.ylabel('clusters')\n",
    "    plt.xlabel('coefficient silhouette')\n",
    "    plt.show()"
   ]
  },
  {
   "cell_type": "code",
   "execution_count": 91,
   "metadata": {},
   "outputs": [
    {
     "data": {
      "image/png": "[encoded data removed]",
      "text/plain": [
       "<matplotlib.figure.Figure at 0x1a804ba9860>"
      ]
     },
     "metadata": {},
     "output_type": "display_data"
    },
    {
     "data": {
      "image/png": "[encoded data removed]",
      "text/plain": [
       "<matplotlib.figure.Figure at 0x1a804bbca90>"
      ]
     },
     "metadata": {},
     "output_type": "display_data"
    },
    {
     "data": {
      "image/png": "[encoded data removed]",
      "text/plain": [
       "<matplotlib.figure.Figure at 0x1a803750f98>"
      ]
     },
     "metadata": {},
     "output_type": "display_data"
    }
   ],
   "source": [
    "for i in range(len(Xs)):\n",
    "    plt.figure(i)\n",
    "    plotSilhouette(Xs[i],y_waves[i])"
   ]
  },
  {
   "cell_type": "code",
   "execution_count": 122,
   "metadata": {},
   "outputs": [
    {
     "name": "stdout",
     "output_type": "stream",
     "text": [
      "For Index(['유의파고 평균', '최대파고 최고', '파주기 평균', '파주기 최고', '평균풍속', '평균 현지기압', '평균습도',\n",
      "       '평균기온', '평균수온'],\n",
      "      dtype='object')\n",
      "The number of cluster 0 4082\n",
      "The number of cluster 1 4621\n",
      "For Index(['유의파고 평균', '최대파고 최고', '파주기 평균', '파주기 최고', '평균풍속', '평균 현지기압', '평균습도'], dtype='object')\n",
      "The number of cluster 0 4654\n",
      "The number of cluster 1 4049\n",
      "For Index(['유의파고 평균', '최대파고 최고', '파주기 평균', '파주기 최고', '평균풍속'], dtype='object')\n",
      "The number of cluster 0 3235\n",
      "The number of cluster 1 1413\n",
      "The number of cluster 2 1593\n",
      "The number of cluster 3 2462\n"
     ]
    }
   ],
   "source": [
    "#클러스터별 데이터의 수는 이렇고\n",
    "for i in range(len(Xs)):\n",
    "    print('For', Xs[i].axes[1])\n",
    "    for k in range(model_waves[i].n_clusters):\n",
    "        print(\"The number of cluster\",k,sum(model_waves[i].labels_==k))"
   ]
  },
  {
   "cell_type": "code",
   "execution_count": 123,
   "metadata": {},
   "outputs": [
    {
     "name": "stdout",
     "output_type": "stream",
     "text": [
      "[[8.44351875e-01 2.11516785e+00 5.21408968e+00 7.06295026e+00\n",
      "  5.01791228e+00 1.01333580e+03 8.48544474e+01 1.68267091e+01\n",
      "  1.67426611e+01]\n",
      " [1.31464734e+00 3.16038511e+00 5.97191692e+00 7.87594115e+00\n",
      "  6.80246646e+00 1.02204494e+03 6.03632627e+01 8.67509736e+00\n",
      "  1.38043704e+01]]\n",
      "\n",
      "[[1.30403780e+00 3.13290378e+00 5.96645189e+00 7.87021048e+00\n",
      "  6.78107818e+00 1.02181375e+03 6.02506443e+01]\n",
      " [8.52606869e-01 2.13800346e+00 5.21401038e+00 7.06271312e+00\n",
      "  5.02752656e+00 1.01352861e+03 8.51897702e+01]]\n",
      "\n",
      "[[ 0.50108158  1.31344252  4.54548826  6.47623609  3.60466625]\n",
      " [ 2.36966054  5.53811881  7.29391796  9.00084866 10.03154173]\n",
      " [ 1.11801632  2.67721281  7.18487131  9.46070308  4.81155053]\n",
      " [ 1.12556911  2.80215447  5.04577236  6.69565041  7.48170732]]\n",
      "\n"
     ]
    }
   ],
   "source": [
    "#클러스터의 중심값은 이렇다\n",
    "for i in range(len(Xs)):\n",
    "    print(model_waves[i].cluster_centers_,end='\\n\\n')"
   ]
  },
  {
   "cell_type": "code",
   "execution_count": 124,
   "metadata": {},
   "outputs": [
    {
     "data": {
      "text/html": [
       "<div>\n",
       "<style scoped>\n",
       "    .dataframe tbody tr th:only-of-type {\n",
       "        vertical-align: middle;\n",
       "    }\n",
       "\n",
       "    .dataframe tbody tr th {\n",
       "        vertical-align: top;\n",
       "    }\n",
       "\n",
       "    .dataframe thead th {\n",
       "        text-align: right;\n",
       "    }\n",
       "</style>\n",
       "<table border=\"1\" class=\"dataframe\">\n",
       "  <thead>\n",
       "    <tr style=\"text-align: right;\">\n",
       "      <th></th>\n",
       "      <th>유의파고 평균</th>\n",
       "      <th>최대파고 최고</th>\n",
       "      <th>파주기 평균</th>\n",
       "      <th>파주기 최고</th>\n",
       "      <th>평균풍속</th>\n",
       "      <th>평균 현지기압</th>\n",
       "      <th>평균습도</th>\n",
       "      <th>평균기온</th>\n",
       "      <th>평균수온</th>\n",
       "    </tr>\n",
       "  </thead>\n",
       "  <tbody>\n",
       "    <tr>\n",
       "      <th>0</th>\n",
       "      <td>0.844352</td>\n",
       "      <td>2.115168</td>\n",
       "      <td>5.214090</td>\n",
       "      <td>7.062950</td>\n",
       "      <td>5.017912</td>\n",
       "      <td>1013.335800</td>\n",
       "      <td>84.854447</td>\n",
       "      <td>16.826709</td>\n",
       "      <td>16.742661</td>\n",
       "    </tr>\n",
       "    <tr>\n",
       "      <th>1</th>\n",
       "      <td>1.314647</td>\n",
       "      <td>3.160385</td>\n",
       "      <td>5.971917</td>\n",
       "      <td>7.875941</td>\n",
       "      <td>6.802466</td>\n",
       "      <td>1022.044937</td>\n",
       "      <td>60.363263</td>\n",
       "      <td>8.675097</td>\n",
       "      <td>13.804370</td>\n",
       "    </tr>\n",
       "  </tbody>\n",
       "</table>\n",
       "</div>"
      ],
      "text/plain": [
       "    유의파고 평균   최대파고 최고    파주기 평균    파주기 최고      평균풍속      평균 현지기압       평균습도  \\\n",
       "0  0.844352  2.115168  5.214090  7.062950  5.017912  1013.335800  84.854447   \n",
       "1  1.314647  3.160385  5.971917  7.875941  6.802466  1022.044937  60.363263   \n",
       "\n",
       "        평균기온       평균수온  \n",
       "0  16.826709  16.742661  \n",
       "1   8.675097  13.804370  "
      ]
     },
     "execution_count": 124,
     "metadata": {},
     "output_type": "execute_result"
    }
   ],
   "source": [
    "pd.DataFrame(columns=list(Xs[0].axes[1]), data=model_waves[0].cluster_centers_)"
   ]
  },
  {
   "cell_type": "code",
   "execution_count": 125,
   "metadata": {},
   "outputs": [
    {
     "data": {
      "text/html": [
       "<div>\n",
       "<style scoped>\n",
       "    .dataframe tbody tr th:only-of-type {\n",
       "        vertical-align: middle;\n",
       "    }\n",
       "\n",
       "    .dataframe tbody tr th {\n",
       "        vertical-align: top;\n",
       "    }\n",
       "\n",
       "    .dataframe thead th {\n",
       "        text-align: right;\n",
       "    }\n",
       "</style>\n",
       "<table border=\"1\" class=\"dataframe\">\n",
       "  <thead>\n",
       "    <tr style=\"text-align: right;\">\n",
       "      <th></th>\n",
       "      <th>유의파고 평균</th>\n",
       "      <th>최대파고 최고</th>\n",
       "      <th>파주기 평균</th>\n",
       "      <th>파주기 최고</th>\n",
       "      <th>평균풍속</th>\n",
       "      <th>평균 현지기압</th>\n",
       "      <th>평균습도</th>\n",
       "    </tr>\n",
       "  </thead>\n",
       "  <tbody>\n",
       "    <tr>\n",
       "      <th>0</th>\n",
       "      <td>1.304038</td>\n",
       "      <td>3.132904</td>\n",
       "      <td>5.966452</td>\n",
       "      <td>7.870210</td>\n",
       "      <td>6.781078</td>\n",
       "      <td>1021.813746</td>\n",
       "      <td>60.250644</td>\n",
       "    </tr>\n",
       "    <tr>\n",
       "      <th>1</th>\n",
       "      <td>0.852607</td>\n",
       "      <td>2.138003</td>\n",
       "      <td>5.214010</td>\n",
       "      <td>7.062713</td>\n",
       "      <td>5.027527</td>\n",
       "      <td>1013.528614</td>\n",
       "      <td>85.189770</td>\n",
       "    </tr>\n",
       "  </tbody>\n",
       "</table>\n",
       "</div>"
      ],
      "text/plain": [
       "    유의파고 평균   최대파고 최고    파주기 평균    파주기 최고      평균풍속      평균 현지기압       평균습도\n",
       "0  1.304038  3.132904  5.966452  7.870210  6.781078  1021.813746  60.250644\n",
       "1  0.852607  2.138003  5.214010  7.062713  5.027527  1013.528614  85.189770"
      ]
     },
     "execution_count": 125,
     "metadata": {},
     "output_type": "execute_result"
    }
   ],
   "source": [
    "pd.DataFrame(columns=list(Xs[1].axes[1]), data=model_waves[1].cluster_centers_)"
   ]
  },
  {
   "cell_type": "code",
   "execution_count": 126,
   "metadata": {},
   "outputs": [
    {
     "data": {
      "text/html": [
       "<div>\n",
       "<style scoped>\n",
       "    .dataframe tbody tr th:only-of-type {\n",
       "        vertical-align: middle;\n",
       "    }\n",
       "\n",
       "    .dataframe tbody tr th {\n",
       "        vertical-align: top;\n",
       "    }\n",
       "\n",
       "    .dataframe thead th {\n",
       "        text-align: right;\n",
       "    }\n",
       "</style>\n",
       "<table border=\"1\" class=\"dataframe\">\n",
       "  <thead>\n",
       "    <tr style=\"text-align: right;\">\n",
       "      <th></th>\n",
       "      <th>유의파고 평균</th>\n",
       "      <th>최대파고 최고</th>\n",
       "      <th>파주기 평균</th>\n",
       "      <th>파주기 최고</th>\n",
       "      <th>평균풍속</th>\n",
       "    </tr>\n",
       "  </thead>\n",
       "  <tbody>\n",
       "    <tr>\n",
       "      <th>0</th>\n",
       "      <td>0.501082</td>\n",
       "      <td>1.313443</td>\n",
       "      <td>4.545488</td>\n",
       "      <td>6.476236</td>\n",
       "      <td>3.604666</td>\n",
       "    </tr>\n",
       "    <tr>\n",
       "      <th>1</th>\n",
       "      <td>2.369661</td>\n",
       "      <td>5.538119</td>\n",
       "      <td>7.293918</td>\n",
       "      <td>9.000849</td>\n",
       "      <td>10.031542</td>\n",
       "    </tr>\n",
       "    <tr>\n",
       "      <th>2</th>\n",
       "      <td>1.118016</td>\n",
       "      <td>2.677213</td>\n",
       "      <td>7.184871</td>\n",
       "      <td>9.460703</td>\n",
       "      <td>4.811551</td>\n",
       "    </tr>\n",
       "    <tr>\n",
       "      <th>3</th>\n",
       "      <td>1.125569</td>\n",
       "      <td>2.802154</td>\n",
       "      <td>5.045772</td>\n",
       "      <td>6.695650</td>\n",
       "      <td>7.481707</td>\n",
       "    </tr>\n",
       "  </tbody>\n",
       "</table>\n",
       "</div>"
      ],
      "text/plain": [
       "    유의파고 평균   최대파고 최고    파주기 평균    파주기 최고       평균풍속\n",
       "0  0.501082  1.313443  4.545488  6.476236   3.604666\n",
       "1  2.369661  5.538119  7.293918  9.000849  10.031542\n",
       "2  1.118016  2.677213  7.184871  9.460703   4.811551\n",
       "3  1.125569  2.802154  5.045772  6.695650   7.481707"
      ]
     },
     "execution_count": 126,
     "metadata": {},
     "output_type": "execute_result"
    }
   ],
   "source": [
    "pd.DataFrame(columns=list(Xs[2].axes[1]), data=model_waves[2].cluster_centers_)"
   ]
  },
  {
   "cell_type": "markdown",
   "metadata": {},
   "source": [
    "### 결과 해석\n",
    "변수선택을 거친 세가지 모델의 해석은 다음과 같다\n",
    "\n",
    "1. 큰파도, 작은파도의 클러스터가 형성되는 경향을 보인다\n",
    "    - 큰파도의 경우 유의파고, 최대파고가 높고, 파주기가 길며, 풍속이 빠르다, 부가적으로 고기압이며 습도가 낮다.\n",
    "    - 반면 작은파도의 경우 모든 변수가 상반된 모습을 보였다. 일정한 경향을 보이긴 한다\n",
    "    \n",
    "    \n",
    "2. 클러스터의 수는 2개가 가장 적절\n",
    "    - wss와 실루엣 스코어 모두 k=2를 추천했다\n",
    "    - 변수를 가장적게 사용한 세번째 모델에서 k=4의 가능성을 보았지만 불안정한 결과이다\n",
    "    - *그러나 클러스터 수를 늘리는 방향의 모델링이 바람직할 것이다*\n",
    "    - *클러스터 수가 늘어나면 좀더 활용가능한 결과를 제공할 수 있기 때문(ex 초,중,고급자에 따라 서핑적절여부제공)*\n",
    "    \n",
    "    \n",
    "3. 평균기온, 수온 데이터는 클러스터 형성에 영향 거의 없다\n",
    "    - 첫번째 모델과 두번째 모델의 cluster centroids의 값이 거의 유사하다\n",
    "    - 기온과 수온이 파도 자체에는 영향주지 않으므로 상식적이고 바람직한 결과이다\n",
    "    - 기온과 수온 정보는 사용자의 호불호에 따라 선택적으로 적용가능하다(ex 수온을 중요시 여기는 사용자에겐 수온변수로 필터링한 결과제공)\n",
    "\n",
    "\n",
    "4. 데이터의 한계가 뚜렷\n",
    "    - 윈드파인더등의 데이터와 달리 1) 일별 평균데이터라 시간별 정보가 없고, 2)파도와 바람의 방향과 같은 중요한 변수가 없다\n",
    "    - 클러스터가 2개밖에 안나오는데도 밀집도(실루엣 스코어)가 높지않다\n",
    "    - 결과적으로 이용자에게 추천할만한 정보가 못됨, 파도가 크다, 안크다의 수준밖에 안된다"
   ]
  },
  {
   "cell_type": "code",
   "execution_count": null,
   "metadata": {},
   "outputs": [],
   "source": []
  }
 ],
 "metadata": {
  "kernelspec": {
   "display_name": "Python 3",
   "language": "python",
   "name": "python3"
  },
  "language_info": {
   "codemirror_mode": {
    "name": "ipython",
    "version": 3
   },
   "file_extension": ".py",
   "mimetype": "text/x-python",
   "name": "python",
   "nbconvert_exporter": "python",
   "pygments_lexer": "ipython3",
   "version": "3.6.4"
  }
 },
 "nbformat": 4,
 "nbformat_minor": 2
}
