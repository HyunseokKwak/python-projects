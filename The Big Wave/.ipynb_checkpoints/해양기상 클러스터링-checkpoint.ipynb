{
 "cells": [
  {
   "cell_type": "code",
   "execution_count": 125,
   "metadata": {},
   "outputs": [],
   "source": [
    "import pandas as pd\n",
    "import numpy as np\n",
    "import matplotlib.pyplot as plt\n",
    "from matplotlib import cm\n",
    "%matplotlib inline\n",
    "import re\n",
    "\n",
    "from sklearn.cluster import KMeans\n",
    "from sklearn.metrics import silhouette_samples\n",
    "from sklearn.metrics import silhouette_score"
   ]
  },
  {
   "cell_type": "markdown",
   "metadata": {},
   "source": [
    "### 전처리"
   ]
  },
  {
   "cell_type": "code",
   "execution_count": 46,
   "metadata": {},
   "outputs": [],
   "source": [
    "buoy = pd.read_csv('buoy.csv',encoding='utf-8')"
   ]
  },
  {
   "cell_type": "code",
   "execution_count": 47,
   "metadata": {},
   "outputs": [
    {
     "data": {
      "text/html": [
       "<div>\n",
       "<style scoped>\n",
       "    .dataframe tbody tr th:only-of-type {\n",
       "        vertical-align: middle;\n",
       "    }\n",
       "\n",
       "    .dataframe tbody tr th {\n",
       "        vertical-align: top;\n",
       "    }\n",
       "\n",
       "    .dataframe thead th {\n",
       "        text-align: right;\n",
       "    }\n",
       "</style>\n",
       "<table border=\"1\" class=\"dataframe\">\n",
       "  <thead>\n",
       "    <tr style=\"text-align: right;\">\n",
       "      <th></th>\n",
       "      <th>Unnamed: 0</th>\n",
       "      <th>loc</th>\n",
       "      <th>year</th>\n",
       "      <th>month</th>\n",
       "      <th>day</th>\n",
       "      <th>유의파고 평균</th>\n",
       "      <th>최대파고 최고</th>\n",
       "      <th>최대파고 시간</th>\n",
       "      <th>파주기 평균</th>\n",
       "      <th>파주기 최고</th>\n",
       "      <th>평균풍속</th>\n",
       "      <th>평균 현지기압</th>\n",
       "      <th>평균습도</th>\n",
       "      <th>평균기온</th>\n",
       "      <th>평균수온</th>\n",
       "    </tr>\n",
       "  </thead>\n",
       "  <tbody>\n",
       "    <tr>\n",
       "      <th>7775</th>\n",
       "      <td>7775</td>\n",
       "      <td>22186</td>\n",
       "      <td>2017</td>\n",
       "      <td>10</td>\n",
       "      <td>16</td>\n",
       "      <td>1.1</td>\n",
       "      <td>2.3</td>\n",
       "      <td>22</td>\n",
       "      <td>4.5</td>\n",
       "      <td>4.9</td>\n",
       "      <td>8.4</td>\n",
       "      <td>1027.5</td>\n",
       "      <td>72</td>\n",
       "      <td>17.9</td>\n",
       "      <td>17.4</td>\n",
       "    </tr>\n",
       "    <tr>\n",
       "      <th>6870</th>\n",
       "      <td>6870</td>\n",
       "      <td>22185</td>\n",
       "      <td>2017</td>\n",
       "      <td>1</td>\n",
       "      <td>4</td>\n",
       "      <td>NaN</td>\n",
       "      <td>NaN</td>\n",
       "      <td>NaN</td>\n",
       "      <td>NaN</td>\n",
       "      <td>NaN</td>\n",
       "      <td>NaN</td>\n",
       "      <td>NaN</td>\n",
       "      <td>NaN</td>\n",
       "      <td>NaN</td>\n",
       "      <td>NaN</td>\n",
       "    </tr>\n",
       "    <tr>\n",
       "      <th>8135</th>\n",
       "      <td>8135</td>\n",
       "      <td>22187</td>\n",
       "      <td>2017</td>\n",
       "      <td>1</td>\n",
       "      <td>31</td>\n",
       "      <td>1.2</td>\n",
       "      <td>2.9</td>\n",
       "      <td>3</td>\n",
       "      <td>6.3</td>\n",
       "      <td>10.7</td>\n",
       "      <td>6.9&gt;</td>\n",
       "      <td>1026.4</td>\n",
       "      <td>72</td>\n",
       "      <td>5.8</td>\n",
       "      <td>17.1</td>\n",
       "    </tr>\n",
       "    <tr>\n",
       "      <th>8652</th>\n",
       "      <td>8652</td>\n",
       "      <td>22188</td>\n",
       "      <td>2016</td>\n",
       "      <td>11</td>\n",
       "      <td>1</td>\n",
       "      <td>1</td>\n",
       "      <td>2.9</td>\n",
       "      <td>6</td>\n",
       "      <td>5.2</td>\n",
       "      <td>8</td>\n",
       "      <td>7.6</td>\n",
       "      <td>1026.9</td>\n",
       "      <td>47</td>\n",
       "      <td>11.5</td>\n",
       "      <td>19.9</td>\n",
       "    </tr>\n",
       "    <tr>\n",
       "      <th>8677</th>\n",
       "      <td>8677</td>\n",
       "      <td>22188</td>\n",
       "      <td>2016</td>\n",
       "      <td>11</td>\n",
       "      <td>24</td>\n",
       "      <td>1.3</td>\n",
       "      <td>3</td>\n",
       "      <td>2</td>\n",
       "      <td>5.3</td>\n",
       "      <td>9.1</td>\n",
       "      <td>7.7</td>\n",
       "      <td>1024.2</td>\n",
       "      <td>50</td>\n",
       "      <td>7.3</td>\n",
       "      <td>17.3</td>\n",
       "    </tr>\n",
       "    <tr>\n",
       "      <th>5013</th>\n",
       "      <td>5013</td>\n",
       "      <td>22108</td>\n",
       "      <td>2017</td>\n",
       "      <td>1</td>\n",
       "      <td>1</td>\n",
       "      <td>0.5&gt;</td>\n",
       "      <td>1.1&gt;</td>\n",
       "      <td>01&gt;</td>\n",
       "      <td>4.2&gt;</td>\n",
       "      <td>4.9&gt;</td>\n",
       "      <td>3.4&gt;</td>\n",
       "      <td>1027.7]</td>\n",
       "      <td>69]</td>\n",
       "      <td>8.7]</td>\n",
       "      <td>9.7]</td>\n",
       "    </tr>\n",
       "    <tr>\n",
       "      <th>7401</th>\n",
       "      <td>7401</td>\n",
       "      <td>22185</td>\n",
       "      <td>2018</td>\n",
       "      <td>5</td>\n",
       "      <td>20</td>\n",
       "      <td>0.3</td>\n",
       "      <td>1.1</td>\n",
       "      <td>6</td>\n",
       "      <td>4.7</td>\n",
       "      <td>7.1</td>\n",
       "      <td>5.2</td>\n",
       "      <td>1018.6</td>\n",
       "      <td>75</td>\n",
       "      <td>13.3</td>\n",
       "      <td>11.5</td>\n",
       "    </tr>\n",
       "    <tr>\n",
       "      <th>1217</th>\n",
       "      <td>1217</td>\n",
       "      <td>22101</td>\n",
       "      <td>2018</td>\n",
       "      <td>5</td>\n",
       "      <td>16</td>\n",
       "      <td>0.7</td>\n",
       "      <td>2.1&gt;</td>\n",
       "      <td>09&gt;</td>\n",
       "      <td>5.3</td>\n",
       "      <td>7.1</td>\n",
       "      <td>6.5</td>\n",
       "      <td>1004.6</td>\n",
       "      <td>96</td>\n",
       "      <td>15.2</td>\n",
       "      <td>10.5</td>\n",
       "    </tr>\n",
       "    <tr>\n",
       "      <th>1631</th>\n",
       "      <td>1631</td>\n",
       "      <td>22102</td>\n",
       "      <td>2017</td>\n",
       "      <td>11</td>\n",
       "      <td>17</td>\n",
       "      <td>0.3</td>\n",
       "      <td>0.9</td>\n",
       "      <td>4</td>\n",
       "      <td>4.1</td>\n",
       "      <td>6.4</td>\n",
       "      <td>4.2</td>\n",
       "      <td>1019.1</td>\n",
       "      <td>68</td>\n",
       "      <td>11.7</td>\n",
       "      <td>14.4</td>\n",
       "    </tr>\n",
       "    <tr>\n",
       "      <th>7477</th>\n",
       "      <td>7477</td>\n",
       "      <td>22186</td>\n",
       "      <td>2016</td>\n",
       "      <td>12</td>\n",
       "      <td>26</td>\n",
       "      <td>0.8</td>\n",
       "      <td>2.5</td>\n",
       "      <td>16</td>\n",
       "      <td>3.7</td>\n",
       "      <td>5.3</td>\n",
       "      <td>7.6</td>\n",
       "      <td>1023</td>\n",
       "      <td>73</td>\n",
       "      <td>7.4</td>\n",
       "      <td>10.6</td>\n",
       "    </tr>\n",
       "  </tbody>\n",
       "</table>\n",
       "</div>"
      ],
      "text/plain": [
       "      Unnamed: 0    loc  year  month day 유의파고 평균 최대파고 최고 최대파고 시간 파주기 평균  \\\n",
       "7775        7775  22186  2017     10  16     1.1     2.3      22    4.5   \n",
       "6870        6870  22185  2017      1   4     NaN     NaN     NaN    NaN   \n",
       "8135        8135  22187  2017      1  31     1.2     2.9       3    6.3   \n",
       "8652        8652  22188  2016     11   1       1     2.9       6    5.2   \n",
       "8677        8677  22188  2016     11  24     1.3       3       2    5.3   \n",
       "5013        5013  22108  2017      1   1    0.5>    1.1>     01>   4.2>   \n",
       "7401        7401  22185  2018      5  20     0.3     1.1       6    4.7   \n",
       "1217        1217  22101  2018      5  16     0.7    2.1>     09>    5.3   \n",
       "1631        1631  22102  2017     11  17     0.3     0.9       4    4.1   \n",
       "7477        7477  22186  2016     12  26     0.8     2.5      16    3.7   \n",
       "\n",
       "     파주기 최고  평균풍속  평균 현지기압 평균습도  평균기온  평균수온  \n",
       "7775    4.9   8.4   1027.5   72  17.9  17.4  \n",
       "6870    NaN   NaN      NaN  NaN   NaN   NaN  \n",
       "8135   10.7  6.9>   1026.4   72   5.8  17.1  \n",
       "8652      8   7.6   1026.9   47  11.5  19.9  \n",
       "8677    9.1   7.7   1024.2   50   7.3  17.3  \n",
       "5013   4.9>  3.4>  1027.7]  69]  8.7]  9.7]  \n",
       "7401    7.1   5.2   1018.6   75  13.3  11.5  \n",
       "1217    7.1   6.5   1004.6   96  15.2  10.5  \n",
       "1631    6.4   4.2   1019.1   68  11.7  14.4  \n",
       "7477    5.3   7.6     1023   73   7.4  10.6  "
      ]
     },
     "execution_count": 47,
     "metadata": {},
     "output_type": "execute_result"
    }
   ],
   "source": [
    "buoy.sample(10)"
   ]
  },
  {
   "cell_type": "code",
   "execution_count": 48,
   "metadata": {},
   "outputs": [],
   "source": [
    "buoy.drop('Unnamed: 0', axis=1, inplace=True)"
   ]
  },
  {
   "cell_type": "code",
   "execution_count": 50,
   "metadata": {},
   "outputs": [],
   "source": [
    "buoy.columns = ['stn', 'year', 'month', 'day', '유의파고 평균', '최대파고 최고', '최대파고 시간',\n",
    "       '파주기 평균', '파주기 최고', '평균풍속', '평균 현지기압', '평균습도', '평균기온', '평균수온']# 칼럼명 loc이 메소드이름과 겹치기에 stn으로 바꾸었다"
   ]
  },
  {
   "cell_type": "code",
   "execution_count": 52,
   "metadata": {},
   "outputs": [
    {
     "name": "stdout",
     "output_type": "stream",
     "text": [
      "<class 'pandas.core.frame.DataFrame'>\n",
      "RangeIndex: 10506 entries, 0 to 10505\n",
      "Data columns (total 14 columns):\n",
      "stn        10506 non-null int64\n",
      "year       10506 non-null int64\n",
      "month      10506 non-null int64\n",
      "day        10506 non-null object\n",
      "유의파고 평균    10384 non-null object\n",
      "최대파고 최고    10385 non-null object\n",
      "최대파고 시간    9193 non-null object\n",
      "파주기 평균     10374 non-null object\n",
      "파주기 최고     10374 non-null object\n",
      "평균풍속       10328 non-null object\n",
      "평균 현지기압    10354 non-null object\n",
      "평균습도       10275 non-null object\n",
      "평균기온       10344 non-null object\n",
      "평균수온       10370 non-null object\n",
      "dtypes: int64(3), object(11)\n",
      "memory usage: 1.1+ MB\n"
     ]
    }
   ],
   "source": [
    "buoy.info()"
   ]
  },
  {
   "cell_type": "code",
   "execution_count": 68,
   "metadata": {},
   "outputs": [],
   "source": [
    "buoy.stn = buoy.stn.astype('category') "
   ]
  },
  {
   "cell_type": "code",
   "execution_count": 64,
   "metadata": {},
   "outputs": [
    {
     "data": {
      "text/html": [
       "<div>\n",
       "<style scoped>\n",
       "    .dataframe tbody tr th:only-of-type {\n",
       "        vertical-align: middle;\n",
       "    }\n",
       "\n",
       "    .dataframe tbody tr th {\n",
       "        vertical-align: top;\n",
       "    }\n",
       "\n",
       "    .dataframe thead th {\n",
       "        text-align: right;\n",
       "    }\n",
       "</style>\n",
       "<table border=\"1\" class=\"dataframe\">\n",
       "  <thead>\n",
       "    <tr style=\"text-align: right;\">\n",
       "      <th></th>\n",
       "      <th>stn</th>\n",
       "    </tr>\n",
       "  </thead>\n",
       "  <tbody>\n",
       "    <tr>\n",
       "      <th>count</th>\n",
       "      <td>10506</td>\n",
       "    </tr>\n",
       "    <tr>\n",
       "      <th>unique</th>\n",
       "      <td>17</td>\n",
       "    </tr>\n",
       "    <tr>\n",
       "      <th>top</th>\n",
       "      <td>22190</td>\n",
       "    </tr>\n",
       "    <tr>\n",
       "      <th>freq</th>\n",
       "      <td>618</td>\n",
       "    </tr>\n",
       "  </tbody>\n",
       "</table>\n",
       "</div>"
      ],
      "text/plain": [
       "          stn\n",
       "count   10506\n",
       "unique     17\n",
       "top     22190\n",
       "freq      618"
      ]
     },
     "execution_count": 64,
     "metadata": {},
     "output_type": "execute_result"
    }
   ],
   "source": [
    "buoy.describe(include='category') #17개의 관측지점"
   ]
  },
  {
   "cell_type": "code",
   "execution_count": 66,
   "metadata": {},
   "outputs": [],
   "source": [
    "#re를 이용해 불필요한 문자 정보를 제거한다\n",
    "buoy.replace(to_replace = '[>]',value=r'',regex=True,inplace=True)\n",
    "buoy.replace(to_replace = '[)]',value=r'',regex=True,inplace=True)\n",
    "buoy.replace(to_replace = '[]]',value=r'',regex=True,inplace=True)\n",
    "buoy.replace(to_replace = '[x]',value=np.nan,regex=True,inplace=True)\n",
    "buoy.replace(to_replace = '[null]',value=np.nan,regex=True,inplace=True)\n",
    "buoy.replace(to_replace = '',value=np.nan,regex=True,inplace=True)"
   ]
  },
  {
   "cell_type": "code",
   "execution_count": 77,
   "metadata": {},
   "outputs": [],
   "source": [
    "buoy.iloc[:,4:] = buoy.iloc[:,4:].astype('float64')"
   ]
  },
  {
   "cell_type": "markdown",
   "metadata": {},
   "source": [
    "데이터가 월별보고 이므로 상순,중순,하순,월 별 평균값이 존재한다\n",
    "\n",
    "필요없는 데이터이므로 제거한다"
   ]
  },
  {
   "cell_type": "code",
   "execution_count": 96,
   "metadata": {},
   "outputs": [
    {
     "data": {
      "text/html": [
       "<div>\n",
       "<style scoped>\n",
       "    .dataframe tbody tr th:only-of-type {\n",
       "        vertical-align: middle;\n",
       "    }\n",
       "\n",
       "    .dataframe tbody tr th {\n",
       "        vertical-align: top;\n",
       "    }\n",
       "\n",
       "    .dataframe thead th {\n",
       "        text-align: right;\n",
       "    }\n",
       "</style>\n",
       "<table border=\"1\" class=\"dataframe\">\n",
       "  <thead>\n",
       "    <tr style=\"text-align: right;\">\n",
       "      <th></th>\n",
       "      <th>stn</th>\n",
       "      <th>year</th>\n",
       "      <th>month</th>\n",
       "      <th>day</th>\n",
       "      <th>유의파고 평균</th>\n",
       "      <th>최대파고 최고</th>\n",
       "      <th>최대파고 시간</th>\n",
       "      <th>파주기 평균</th>\n",
       "      <th>파주기 최고</th>\n",
       "      <th>평균풍속</th>\n",
       "      <th>평균 현지기압</th>\n",
       "      <th>평균습도</th>\n",
       "      <th>평균기온</th>\n",
       "      <th>평균수온</th>\n",
       "    </tr>\n",
       "  </thead>\n",
       "  <tbody>\n",
       "    <tr>\n",
       "      <th>10</th>\n",
       "      <td>21229</td>\n",
       "      <td>2016</td>\n",
       "      <td>11</td>\n",
       "      <td>상순</td>\n",
       "      <td>2.1</td>\n",
       "      <td>4.8</td>\n",
       "      <td>NaN</td>\n",
       "      <td>7.3</td>\n",
       "      <td>8.6</td>\n",
       "      <td>8.1</td>\n",
       "      <td>1021.4</td>\n",
       "      <td>63.0</td>\n",
       "      <td>12.3</td>\n",
       "      <td>19.2</td>\n",
       "    </tr>\n",
       "    <tr>\n",
       "      <th>21</th>\n",
       "      <td>21229</td>\n",
       "      <td>2016</td>\n",
       "      <td>11</td>\n",
       "      <td>중순</td>\n",
       "      <td>1.4</td>\n",
       "      <td>3.2</td>\n",
       "      <td>NaN</td>\n",
       "      <td>6.2</td>\n",
       "      <td>8.7</td>\n",
       "      <td>6.0</td>\n",
       "      <td>1018.8</td>\n",
       "      <td>66.0</td>\n",
       "      <td>15.3</td>\n",
       "      <td>18.1</td>\n",
       "    </tr>\n",
       "    <tr>\n",
       "      <th>32</th>\n",
       "      <td>21229</td>\n",
       "      <td>2016</td>\n",
       "      <td>11</td>\n",
       "      <td>하순</td>\n",
       "      <td>1.9</td>\n",
       "      <td>4.5</td>\n",
       "      <td>NaN</td>\n",
       "      <td>6.8</td>\n",
       "      <td>8.3</td>\n",
       "      <td>7.4</td>\n",
       "      <td>1022.4</td>\n",
       "      <td>64.0</td>\n",
       "      <td>9.8</td>\n",
       "      <td>17.8</td>\n",
       "    </tr>\n",
       "    <tr>\n",
       "      <th>33</th>\n",
       "      <td>21229</td>\n",
       "      <td>2016</td>\n",
       "      <td>11</td>\n",
       "      <td>월</td>\n",
       "      <td>1.8</td>\n",
       "      <td>4.2</td>\n",
       "      <td>NaN</td>\n",
       "      <td>6.8</td>\n",
       "      <td>8.5</td>\n",
       "      <td>7.2</td>\n",
       "      <td>1020.9</td>\n",
       "      <td>64.0</td>\n",
       "      <td>12.5</td>\n",
       "      <td>18.4</td>\n",
       "    </tr>\n",
       "    <tr>\n",
       "      <th>44</th>\n",
       "      <td>21229</td>\n",
       "      <td>2016</td>\n",
       "      <td>12</td>\n",
       "      <td>상순</td>\n",
       "      <td>1.9</td>\n",
       "      <td>4.6</td>\n",
       "      <td>NaN</td>\n",
       "      <td>6.7</td>\n",
       "      <td>8.1</td>\n",
       "      <td>7.4</td>\n",
       "      <td>1019.0</td>\n",
       "      <td>57.0</td>\n",
       "      <td>10.8</td>\n",
       "      <td>16.3</td>\n",
       "    </tr>\n",
       "  </tbody>\n",
       "</table>\n",
       "</div>"
      ],
      "text/plain": [
       "      stn  year  month day  유의파고 평균  최대파고 최고  최대파고 시간  파주기 평균  파주기 최고  평균풍속  \\\n",
       "10  21229  2016     11  상순      2.1      4.8      NaN     7.3     8.6   8.1   \n",
       "21  21229  2016     11  중순      1.4      3.2      NaN     6.2     8.7   6.0   \n",
       "32  21229  2016     11  하순      1.9      4.5      NaN     6.8     8.3   7.4   \n",
       "33  21229  2016     11   월      1.8      4.2      NaN     6.8     8.5   7.2   \n",
       "44  21229  2016     12  상순      1.9      4.6      NaN     6.7     8.1   7.4   \n",
       "\n",
       "    평균 현지기압  평균습도  평균기온  평균수온  \n",
       "10   1021.4  63.0  12.3  19.2  \n",
       "21   1018.8  66.0  15.3  18.1  \n",
       "32   1022.4  64.0   9.8  17.8  \n",
       "33   1020.9  64.0  12.5  18.4  \n",
       "44   1019.0  57.0  10.8  16.3  "
      ]
     },
     "execution_count": 96,
     "metadata": {},
     "output_type": "execute_result"
    }
   ],
   "source": [
    "buoy[buoy.day.str.contains(r'\\D+')].head()"
   ]
  },
  {
   "cell_type": "code",
   "execution_count": 98,
   "metadata": {},
   "outputs": [
    {
     "data": {
      "text/plain": [
       "Int64Index([   10,    21,    32,    33,    44,    55,    67,    68,    79,\n",
       "               90,\n",
       "            ...\n",
       "            10435, 10436, 10447, 10458, 10469, 10470, 10481, 10492, 10504,\n",
       "            10505],\n",
       "           dtype='int64', length=1224)"
      ]
     },
     "execution_count": 98,
     "metadata": {},
     "output_type": "execute_result"
    }
   ],
   "source": [
    "buoy[buoy.day.str.contains(r'\\D+')].axes[0]"
   ]
  },
  {
   "cell_type": "code",
   "execution_count": 99,
   "metadata": {},
   "outputs": [],
   "source": [
    "indexToBeDropped = buoy[buoy.day.str.contains(r'\\D+')].axes[0]"
   ]
  },
  {
   "cell_type": "code",
   "execution_count": 101,
   "metadata": {},
   "outputs": [],
   "source": [
    "buoy.drop(index=indexToBeDropped, inplace=True)"
   ]
  },
  {
   "cell_type": "code",
   "execution_count": 112,
   "metadata": {},
   "outputs": [],
   "source": [
    "buoy.reset_index(inplace=True, drop=True)"
   ]
  },
  {
   "cell_type": "code",
   "execution_count": 113,
   "metadata": {},
   "outputs": [
    {
     "name": "stdout",
     "output_type": "stream",
     "text": [
      "<class 'pandas.core.frame.DataFrame'>\n",
      "RangeIndex: 9282 entries, 0 to 9281\n",
      "Data columns (total 14 columns):\n",
      "stn        9282 non-null category\n",
      "year       9282 non-null int64\n",
      "month      9282 non-null int64\n",
      "day        9282 non-null object\n",
      "유의파고 평균    9072 non-null float64\n",
      "최대파고 최고    9111 non-null float64\n",
      "최대파고 시간    9111 non-null float64\n",
      "파주기 평균     9051 non-null float64\n",
      "파주기 최고     9048 non-null float64\n",
      "평균풍속       9036 non-null float64\n",
      "평균 현지기압    9073 non-null float64\n",
      "평균습도       8967 non-null float64\n",
      "평균기온       9046 non-null float64\n",
      "평균수온       9061 non-null float64\n",
      "dtypes: category(1), float64(10), int64(2), object(1)\n",
      "memory usage: 952.6+ KB\n"
     ]
    }
   ],
   "source": [
    "buoy.info()"
   ]
  },
  {
   "cell_type": "code",
   "execution_count": 114,
   "metadata": {},
   "outputs": [
    {
     "data": {
      "text/html": [
       "<div>\n",
       "<style scoped>\n",
       "    .dataframe tbody tr th:only-of-type {\n",
       "        vertical-align: middle;\n",
       "    }\n",
       "\n",
       "    .dataframe tbody tr th {\n",
       "        vertical-align: top;\n",
       "    }\n",
       "\n",
       "    .dataframe thead th {\n",
       "        text-align: right;\n",
       "    }\n",
       "</style>\n",
       "<table border=\"1\" class=\"dataframe\">\n",
       "  <thead>\n",
       "    <tr style=\"text-align: right;\">\n",
       "      <th></th>\n",
       "      <th>유의파고 평균</th>\n",
       "      <th>최대파고 최고</th>\n",
       "      <th>최대파고 시간</th>\n",
       "      <th>파주기 평균</th>\n",
       "      <th>파주기 최고</th>\n",
       "      <th>평균풍속</th>\n",
       "      <th>평균 현지기압</th>\n",
       "      <th>평균습도</th>\n",
       "      <th>평균기온</th>\n",
       "      <th>평균수온</th>\n",
       "    </tr>\n",
       "  </thead>\n",
       "  <tbody>\n",
       "    <tr>\n",
       "      <th>count</th>\n",
       "      <td>9072.000000</td>\n",
       "      <td>9111.000000</td>\n",
       "      <td>9111.000000</td>\n",
       "      <td>9051.000000</td>\n",
       "      <td>9048.000000</td>\n",
       "      <td>9036.000000</td>\n",
       "      <td>9073.000000</td>\n",
       "      <td>8967.000000</td>\n",
       "      <td>9046.000000</td>\n",
       "      <td>9061.000000</td>\n",
       "    </tr>\n",
       "    <tr>\n",
       "      <th>mean</th>\n",
       "      <td>1.086728</td>\n",
       "      <td>2.647075</td>\n",
       "      <td>10.913401</td>\n",
       "      <td>5.610960</td>\n",
       "      <td>7.487721</td>\n",
       "      <td>5.937096</td>\n",
       "      <td>1017.959605</td>\n",
       "      <td>71.878443</td>\n",
       "      <td>12.423701</td>\n",
       "      <td>15.120042</td>\n",
       "    </tr>\n",
       "    <tr>\n",
       "      <th>std</th>\n",
       "      <td>0.752915</td>\n",
       "      <td>1.724864</td>\n",
       "      <td>8.236239</td>\n",
       "      <td>1.597871</td>\n",
       "      <td>1.798572</td>\n",
       "      <td>2.761304</td>\n",
       "      <td>7.028368</td>\n",
       "      <td>14.667394</td>\n",
       "      <td>7.234280</td>\n",
       "      <td>5.624758</td>\n",
       "    </tr>\n",
       "    <tr>\n",
       "      <th>min</th>\n",
       "      <td>0.000000</td>\n",
       "      <td>0.300000</td>\n",
       "      <td>1.000000</td>\n",
       "      <td>2.400000</td>\n",
       "      <td>3.000000</td>\n",
       "      <td>0.200000</td>\n",
       "      <td>996.700000</td>\n",
       "      <td>0.000000</td>\n",
       "      <td>-11.000000</td>\n",
       "      <td>1.100000</td>\n",
       "    </tr>\n",
       "    <tr>\n",
       "      <th>25%</th>\n",
       "      <td>0.500000</td>\n",
       "      <td>1.300000</td>\n",
       "      <td>3.000000</td>\n",
       "      <td>4.400000</td>\n",
       "      <td>6.400000</td>\n",
       "      <td>3.800000</td>\n",
       "      <td>1012.400000</td>\n",
       "      <td>61.000000</td>\n",
       "      <td>6.900000</td>\n",
       "      <td>11.900000</td>\n",
       "    </tr>\n",
       "    <tr>\n",
       "      <th>50%</th>\n",
       "      <td>0.900000</td>\n",
       "      <td>2.200000</td>\n",
       "      <td>10.000000</td>\n",
       "      <td>5.400000</td>\n",
       "      <td>7.100000</td>\n",
       "      <td>5.600000</td>\n",
       "      <td>1018.400000</td>\n",
       "      <td>71.000000</td>\n",
       "      <td>12.200000</td>\n",
       "      <td>15.100000</td>\n",
       "    </tr>\n",
       "    <tr>\n",
       "      <th>75%</th>\n",
       "      <td>1.500000</td>\n",
       "      <td>3.500000</td>\n",
       "      <td>19.000000</td>\n",
       "      <td>6.600000</td>\n",
       "      <td>9.100000</td>\n",
       "      <td>7.800000</td>\n",
       "      <td>1023.300000</td>\n",
       "      <td>84.000000</td>\n",
       "      <td>17.700000</td>\n",
       "      <td>18.700000</td>\n",
       "    </tr>\n",
       "    <tr>\n",
       "      <th>max</th>\n",
       "      <td>5.200000</td>\n",
       "      <td>12.000000</td>\n",
       "      <td>24.000000</td>\n",
       "      <td>12.700000</td>\n",
       "      <td>16.000000</td>\n",
       "      <td>17.000000</td>\n",
       "      <td>1036.600000</td>\n",
       "      <td>100.000000</td>\n",
       "      <td>33.900000</td>\n",
       "      <td>30.700000</td>\n",
       "    </tr>\n",
       "  </tbody>\n",
       "</table>\n",
       "</div>"
      ],
      "text/plain": [
       "           유의파고 평균      최대파고 최고      최대파고 시간       파주기 평균       파주기 최고  \\\n",
       "count  9072.000000  9111.000000  9111.000000  9051.000000  9048.000000   \n",
       "mean      1.086728     2.647075    10.913401     5.610960     7.487721   \n",
       "std       0.752915     1.724864     8.236239     1.597871     1.798572   \n",
       "min       0.000000     0.300000     1.000000     2.400000     3.000000   \n",
       "25%       0.500000     1.300000     3.000000     4.400000     6.400000   \n",
       "50%       0.900000     2.200000    10.000000     5.400000     7.100000   \n",
       "75%       1.500000     3.500000    19.000000     6.600000     9.100000   \n",
       "max       5.200000    12.000000    24.000000    12.700000    16.000000   \n",
       "\n",
       "              평균풍속      평균 현지기압         평균습도         평균기온         평균수온  \n",
       "count  9036.000000  9073.000000  8967.000000  9046.000000  9061.000000  \n",
       "mean      5.937096  1017.959605    71.878443    12.423701    15.120042  \n",
       "std       2.761304     7.028368    14.667394     7.234280     5.624758  \n",
       "min       0.200000   996.700000     0.000000   -11.000000     1.100000  \n",
       "25%       3.800000  1012.400000    61.000000     6.900000    11.900000  \n",
       "50%       5.600000  1018.400000    71.000000    12.200000    15.100000  \n",
       "75%       7.800000  1023.300000    84.000000    17.700000    18.700000  \n",
       "max      17.000000  1036.600000   100.000000    33.900000    30.700000  "
      ]
     },
     "execution_count": 114,
     "metadata": {},
     "output_type": "execute_result"
    }
   ],
   "source": [
    "buoy.iloc[:,4:].describe()"
   ]
  },
  {
   "cell_type": "code",
   "execution_count": 115,
   "metadata": {},
   "outputs": [],
   "source": [
    "plt.rcParams['font.family'] = 'NanumSquare' #그래프 위한 폰트설정"
   ]
  },
  {
   "cell_type": "markdown",
   "metadata": {},
   "source": [
    "### EDA"
   ]
  },
  {
   "cell_type": "code",
   "execution_count": 116,
   "metadata": {},
   "outputs": [
    {
     "data": {
      "text/plain": [
       "<matplotlib.axes._subplots.AxesSubplot at 0x20be1e37ac8>"
      ]
     },
     "execution_count": 116,
     "metadata": {},
     "output_type": "execute_result"
    },
    {
     "data": {
      "image/png": "[encoded data removed]",
      "text/plain": [
       "<matplotlib.figure.Figure at 0x20be1d38b00>"
      ]
     },
     "metadata": {},
     "output_type": "display_data"
    }
   ],
   "source": [
    "buoy.iloc[:,4:10].boxplot() # 간단하게 boxplot 그려보자"
   ]
  },
  {
   "cell_type": "code",
   "execution_count": 117,
   "metadata": {},
   "outputs": [
    {
     "data": {
      "text/plain": [
       "<matplotlib.axes._subplots.AxesSubplot at 0x20be1effc18>"
      ]
     },
     "execution_count": 117,
     "metadata": {},
     "output_type": "execute_result"
    },
    {
     "data": {
      "image/png": "[encoded data removed]",
      "text/plain": [
       "<matplotlib.figure.Figure at 0x20be0832eb8>"
      ]
     },
     "metadata": {},
     "output_type": "display_data"
    }
   ],
   "source": [
    "buoy.iloc[:,10].plot.density(title='평균현지기압')"
   ]
  },
  {
   "cell_type": "code",
   "execution_count": 118,
   "metadata": {},
   "outputs": [
    {
     "data": {
      "text/plain": [
       "<matplotlib.axes._subplots.AxesSubplot at 0x20be1b13668>"
      ]
     },
     "execution_count": 118,
     "metadata": {},
     "output_type": "execute_result"
    },
    {
     "data": {
      "image/png": "[encoded data removed]",
      "text/plain": [
       "<matplotlib.figure.Figure at 0x20be1b312e8>"
      ]
     },
     "metadata": {},
     "output_type": "display_data"
    }
   ],
   "source": [
    "buoy.iloc[:,11:].boxplot()"
   ]
  },
  {
   "cell_type": "code",
   "execution_count": null,
   "metadata": {},
   "outputs": [],
   "source": []
  },
  {
   "cell_type": "markdown",
   "metadata": {},
   "source": [
    "### Clustering"
   ]
  },
  {
   "cell_type": "code",
   "execution_count": 120,
   "metadata": {},
   "outputs": [],
   "source": [
    "buoy_dropped = buoy.dropna() # 클러스터링을 위해 일단 NaN 값이 있는 row를 모두 drop 시켰다"
   ]
  },
  {
   "cell_type": "code",
   "execution_count": 126,
   "metadata": {},
   "outputs": [
    {
     "data": {
      "text/plain": [
       "Text(0,0.5,'Distortion')"
      ]
     },
     "execution_count": 126,
     "metadata": {},
     "output_type": "execute_result"
    },
    {
     "data": {
      "image/png": "[encoded data removed]",
      "text/plain": [
       "<matplotlib.figure.Figure at 0x20be2f87278>"
      ]
     },
     "metadata": {},
     "output_type": "display_data"
    }
   ],
   "source": [
    "distortions = [] #wss plotting 해본다\n",
    "for k in range(1,11):\n",
    "    km = KMeans(n_clusters = k,\n",
    "               init='k-means++',\n",
    "               n_init = 100,\n",
    "               max_iter = 300,\n",
    "               random_state=0)\n",
    "    km.fit(buoy_dropped.iloc[:,4:])\n",
    "    distortions.append(km.inertia_)\n",
    "    \n",
    "plt.plot(range(1,11), distortions, marker='o')\n",
    "plt.xlabel('Number of clusters')\n",
    "plt.ylabel('Distortion')"
   ]
  },
  {
   "cell_type": "code",
   "execution_count": 128,
   "metadata": {},
   "outputs": [
    {
     "name": "stdout",
     "output_type": "stream",
     "text": [
      "score for 2 clusters:0.360\n",
      "score for 3 clusters:0.240\n",
      "score for 4 clusters:0.237\n",
      "score for 5 clusters:0.227\n"
     ]
    }
   ],
   "source": [
    "#silhouette_score도 찍어본다\n",
    "for k in range(2,6):\n",
    "    km = KMeans(n_clusters = k,\n",
    "               init='k-means++',\n",
    "               n_init = 100,\n",
    "               max_iter = 300,\n",
    "               random_state=0).fit(buoy_dropped.iloc[:,4:])\n",
    "    print(\"score for %d clusters:%.3f\" % (k, silhouette_score(buoy_dropped.iloc[:,4:], km.labels_)))"
   ]
  },
  {
   "cell_type": "markdown",
   "metadata": {},
   "source": []
  },
  {
   "cell_type": "markdown",
   "metadata": {},
   "source": [
    "#### ~~스케일링~~\n",
    ">X = buoy_dropped.iloc[:,4:]\n",
    "X = (X - X.mean())/X.std()\n",
    "for k in range(2,6):\n",
    "    km = KMeans(n_clusters = k,\n",
    "               init='k-means++',\n",
    "               n_init = 100,\n",
    "               max_iter = 300,\n",
    "               random_state=0).fit(X)\n",
    "    print(\"score for %d clusters:%.3f\" % (k, silhouette_score(X, km.labels_)))"
   ]
  },
  {
   "cell_type": "code",
   "execution_count": 139,
   "metadata": {},
   "outputs": [],
   "source": [
    "#모델을 생성합니다 (k=2)\n",
    "km_wave = KMeans(n_clusters=2)\n",
    "model_wave = km_wave.fit(buoy_dropped.iloc[:,4:])"
   ]
  },
  {
   "cell_type": "code",
   "execution_count": 140,
   "metadata": {},
   "outputs": [
    {
     "name": "stdout",
     "output_type": "stream",
     "text": [
      "KMeans(algorithm='auto', copy_x=True, init='k-means++', max_iter=300,\n",
      "    n_clusters=2, n_init=10, n_jobs=1, precompute_distances='auto',\n",
      "    random_state=None, tol=0.0001, verbose=0)\n"
     ]
    }
   ],
   "source": [
    "print(model_wave)"
   ]
  },
  {
   "cell_type": "code",
   "execution_count": 141,
   "metadata": {},
   "outputs": [],
   "source": [
    "y_wave = model_wave.predict(buoy_dropped.iloc[:,4:]) #클러스터의 값을 라벨링합니다"
   ]
  },
  {
   "cell_type": "code",
   "execution_count": 137,
   "metadata": {},
   "outputs": [],
   "source": [
    "def plotSilhouette(X, y_km): #실루엣 스코어의 시각화\n",
    "    cluster_labels = np.unique(y_km)\n",
    "    n_clusters = cluster_labels.shape[0]\n",
    "    silhouette_vals = silhouette_samples(X, y_km, metric='euclidean')\n",
    "    y_ax_lower, y_ax_upper = 0, 0\n",
    "    yticks=[]\n",
    "    \n",
    "    for i, c in enumerate(cluster_labels):\n",
    "        c_silhouette_vals = silhouette_vals[y_km==c]\n",
    "        c_silhouette_vals.sort()\n",
    "        y_ax_upper += len(c_silhouette_vals)\n",
    "        color = cm.jet(i/n_clusters)\n",
    "        \n",
    "        plt.barh(range(y_ax_lower,y_ax_upper), c_silhouette_vals, height=1.0,\n",
    "                edgecolor='none', color=color)\n",
    "        yticks.append((y_ax_lower+y_ax_upper)/2)\n",
    "        y_ax_lower += len(c_silhouette_vals)\n",
    "        \n",
    "    silhouette_avg = np.mean(silhouette_vals)\n",
    "    plt.axvline(silhouette_avg, color = 'red', linestyle='--')\n",
    "    plt.yticks(yticks, cluster_labels)\n",
    "    plt.ylabel('clusters')\n",
    "    plt.xlabel('coefficient silhouette')\n",
    "    plt.show()"
   ]
  },
  {
   "cell_type": "code",
   "execution_count": 142,
   "metadata": {},
   "outputs": [
    {
     "data": {
      "image/png": "[encoded data removed]",
      "text/plain": [
       "<matplotlib.figure.Figure at 0x20b800b8b70>"
      ]
     },
     "metadata": {},
     "output_type": "display_data"
    }
   ],
   "source": [
    "plotSilhouette(buoy_dropped.iloc[:,4:],y_wave)"
   ]
  },
  {
   "cell_type": "code",
   "execution_count": 147,
   "metadata": {},
   "outputs": [
    {
     "name": "stdout",
     "output_type": "stream",
     "text": [
      "The number of cluster 0 4098\n",
      "The number of cluster 1 4605\n"
     ]
    }
   ],
   "source": [
    "#클러스터별 데이터의 수는 이렇고\n",
    "for k in range(model_wave.n_clusters):\n",
    "    print(\"The number of cluster\",k,sum(model_wave.labels_==k))"
   ]
  },
  {
   "cell_type": "code",
   "execution_count": 148,
   "metadata": {},
   "outputs": [
    {
     "data": {
      "text/plain": [
       "array([[8.47058824e-01, 2.12626312e+00, 1.20929949e+01, 5.21344887e+00,\n",
       "        7.07019771e+00, 5.03890652e+00, 1.01332587e+03, 8.47891140e+01,\n",
       "        1.68151818e+01, 1.67302172e+01],\n",
       "       [1.31387321e+00, 3.15414677e+00, 9.79396439e+00, 5.97511941e+00,\n",
       "        7.87231871e+00, 6.78999132e+00, 1.02208402e+03, 6.03363005e+01,\n",
       "        8.65703430e+00, 1.38052323e+01]])"
      ]
     },
     "execution_count": 148,
     "metadata": {},
     "output_type": "execute_result"
    }
   ],
   "source": [
    "#클러스터의 중심값은 이렇다\n",
    "model_wave.cluster_centers_"
   ]
  },
  {
   "cell_type": "code",
   "execution_count": 152,
   "metadata": {},
   "outputs": [
    {
     "data": {
      "text/html": [
       "<div>\n",
       "<style scoped>\n",
       "    .dataframe tbody tr th:only-of-type {\n",
       "        vertical-align: middle;\n",
       "    }\n",
       "\n",
       "    .dataframe tbody tr th {\n",
       "        vertical-align: top;\n",
       "    }\n",
       "\n",
       "    .dataframe thead th {\n",
       "        text-align: right;\n",
       "    }\n",
       "</style>\n",
       "<table border=\"1\" class=\"dataframe\">\n",
       "  <thead>\n",
       "    <tr style=\"text-align: right;\">\n",
       "      <th></th>\n",
       "      <th>유의파고 평균</th>\n",
       "      <th>최대파고 최고</th>\n",
       "      <th>최대파고 시간</th>\n",
       "      <th>파주기 평균</th>\n",
       "      <th>파주기 최고</th>\n",
       "      <th>평균풍속</th>\n",
       "      <th>평균 현지기압</th>\n",
       "      <th>평균습도</th>\n",
       "      <th>평균기온</th>\n",
       "      <th>평균수온</th>\n",
       "    </tr>\n",
       "  </thead>\n",
       "  <tbody>\n",
       "    <tr>\n",
       "      <th>0</th>\n",
       "      <td>0.847059</td>\n",
       "      <td>2.126263</td>\n",
       "      <td>12.092995</td>\n",
       "      <td>5.213449</td>\n",
       "      <td>7.070198</td>\n",
       "      <td>5.038907</td>\n",
       "      <td>1013.325873</td>\n",
       "      <td>84.789114</td>\n",
       "      <td>16.815182</td>\n",
       "      <td>16.730217</td>\n",
       "    </tr>\n",
       "    <tr>\n",
       "      <th>1</th>\n",
       "      <td>1.313873</td>\n",
       "      <td>3.154147</td>\n",
       "      <td>9.793964</td>\n",
       "      <td>5.975119</td>\n",
       "      <td>7.872319</td>\n",
       "      <td>6.789991</td>\n",
       "      <td>1022.084021</td>\n",
       "      <td>60.336300</td>\n",
       "      <td>8.657034</td>\n",
       "      <td>13.805232</td>\n",
       "    </tr>\n",
       "  </tbody>\n",
       "</table>\n",
       "</div>"
      ],
      "text/plain": [
       "    유의파고 평균   최대파고 최고    최대파고 시간    파주기 평균    파주기 최고      평균풍속      평균 현지기압  \\\n",
       "0  0.847059  2.126263  12.092995  5.213449  7.070198  5.038907  1013.325873   \n",
       "1  1.313873  3.154147   9.793964  5.975119  7.872319  6.789991  1022.084021   \n",
       "\n",
       "        평균습도       평균기온       평균수온  \n",
       "0  84.789114  16.815182  16.730217  \n",
       "1  60.336300   8.657034  13.805232  "
      ]
     },
     "execution_count": 152,
     "metadata": {},
     "output_type": "execute_result"
    }
   ],
   "source": [
    "pd.DataFrame(columns=['유의파고 평균', '최대파고 최고', '최대파고 시간',\n",
    "       '파주기 평균', '파주기 최고', '평균풍속', '평균 현지기압', '평균습도', '평균기온', '평균수온'],\n",
    "            data=model_wave.cluster_centers_\n",
    "            )"
   ]
  },
  {
   "cell_type": "code",
   "execution_count": null,
   "metadata": {},
   "outputs": [],
   "source": []
  }
 ],
 "metadata": {
  "kernelspec": {
   "display_name": "Python 3",
   "language": "python",
   "name": "python3"
  },
  "language_info": {
   "codemirror_mode": {
    "name": "ipython",
    "version": 3
   },
   "file_extension": ".py",
   "mimetype": "text/x-python",
   "name": "python",
   "nbconvert_exporter": "python",
   "pygments_lexer": "ipython3",
   "version": "3.6.4"
  }
 },
 "nbformat": 4,
 "nbformat_minor": 2
}
