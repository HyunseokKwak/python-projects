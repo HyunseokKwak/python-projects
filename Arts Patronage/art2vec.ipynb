{
 "cells": [
  {
   "cell_type": "code",
   "execution_count": 85,
   "metadata": {},
   "outputs": [],
   "source": [
    "import pandas as pd\n",
    "from matplotlib import pyplot as plt\n",
    "\n",
    "from gensim.models.word2vec import Word2Vec\n",
    "from os import path, mkdir\n",
    "from multiprocessing import cpu_count\n",
    "\n",
    "import nltk\n",
    "from nltk.tokenize import sent_tokenize, word_tokenize, regexp_tokenize\n",
    "from konlpy.tag import Kkma,Twitter\n",
    "from collections import Counter"
   ]
  },
  {
   "cell_type": "code",
   "execution_count": 3,
   "metadata": {},
   "outputs": [],
   "source": [
    "d = pd.read_excel('test.xlsx',sheet_name='sheet1')"
   ]
  },
  {
   "cell_type": "code",
   "execution_count": 5,
   "metadata": {},
   "outputs": [
    {
     "name": "stdout",
     "output_type": "stream",
     "text": [
      "<class 'pandas.core.frame.DataFrame'>\n",
      "Int64Index: 8035 entries, 0 to 8034\n",
      "Data columns (total 13 columns):\n",
      "연월      8035 non-null int64\n",
      "전시제목    8035 non-null object\n",
      "링크      8035 non-null object\n",
      "전시작가    8035 non-null object\n",
      "전시일정    8035 non-null object\n",
      "초대일시    7629 non-null object\n",
      "관람시간    8034 non-null object\n",
      "전시장소    8034 non-null object\n",
      "주소      8034 non-null object\n",
      "연락처     8034 non-null object\n",
      "홈페이지    7432 non-null object\n",
      "아티클     8034 non-null object\n",
      "텍스트     7703 non-null object\n",
      "dtypes: int64(1), object(12)\n",
      "memory usage: 878.8+ KB\n"
     ]
    }
   ],
   "source": [
    "d.info()"
   ]
  },
  {
   "cell_type": "code",
   "execution_count": 13,
   "metadata": {},
   "outputs": [],
   "source": [
    "d.dropna(subset=['텍스트'],inplace=True) #텍스트 없는 로우 드랍"
   ]
  },
  {
   "cell_type": "code",
   "execution_count": 16,
   "metadata": {},
   "outputs": [
    {
     "data": {
      "text/plain": [
       "20"
      ]
     },
     "execution_count": 16,
     "metadata": {},
     "output_type": "execute_result"
    }
   ],
   "source": [
    "sum(d.duplicated(subset=['텍스트'])) # 중복된 텍스트"
   ]
  },
  {
   "cell_type": "code",
   "execution_count": 18,
   "metadata": {},
   "outputs": [],
   "source": [
    "toDropIndex = d[d.duplicated(subset=['텍스트'])].index"
   ]
  },
  {
   "cell_type": "code",
   "execution_count": 19,
   "metadata": {},
   "outputs": [],
   "source": [
    "d.drop(index = toDropIndex, inplace=True)"
   ]
  },
  {
   "cell_type": "code",
   "execution_count": 20,
   "metadata": {},
   "outputs": [
    {
     "name": "stdout",
     "output_type": "stream",
     "text": [
      "<class 'pandas.core.frame.DataFrame'>\n",
      "Int64Index: 7683 entries, 0 to 8034\n",
      "Data columns (total 13 columns):\n",
      "연월      7683 non-null int64\n",
      "전시제목    7683 non-null object\n",
      "링크      7683 non-null object\n",
      "전시작가    7683 non-null object\n",
      "전시일정    7683 non-null object\n",
      "초대일시    7292 non-null object\n",
      "관람시간    7683 non-null object\n",
      "전시장소    7683 non-null object\n",
      "주소      7683 non-null object\n",
      "연락처     7683 non-null object\n",
      "홈페이지    7103 non-null object\n",
      "아티클     7683 non-null object\n",
      "텍스트     7683 non-null object\n",
      "dtypes: int64(1), object(12)\n",
      "memory usage: 840.3+ KB\n"
     ]
    }
   ],
   "source": [
    "d.info()"
   ]
  },
  {
   "cell_type": "code",
   "execution_count": 21,
   "metadata": {},
   "outputs": [],
   "source": [
    "corpus = ''\n",
    "for txt in d.텍스트:\n",
    "    if txt==None:\n",
    "        print('None')\n",
    "        continue\n",
    "    corpus +=str(txt)"
   ]
  },
  {
   "cell_type": "code",
   "execution_count": 89,
   "metadata": {},
   "outputs": [],
   "source": [
    "# kkma = Kkma()\n",
    "# tokens = kkma.morphs(corpus) \n",
    "\n",
    "# twitter = Twitter()\n",
    "# tokens = twitter.morphs(corpus)# 찢어서하자"
   ]
  },
  {
   "cell_type": "code",
   "execution_count": 24,
   "metadata": {},
   "outputs": [],
   "source": [
    "## 문장 단위의 token을 생성 \n",
    "sent_tokens = sent_tokenize(corpus)"
   ]
  },
  {
   "cell_type": "code",
   "execution_count": 25,
   "metadata": {},
   "outputs": [
    {
     "data": {
      "text/plain": [
       "183701"
      ]
     },
     "execution_count": 25,
     "metadata": {},
     "output_type": "execute_result"
    }
   ],
   "source": [
    "len(sent_tokens)"
   ]
  },
  {
   "cell_type": "code",
   "execution_count": 26,
   "metadata": {},
   "outputs": [],
   "source": [
    "word_tokens = []\n",
    "for sent in sent_tokens:\n",
    "    words = word_tokenize(sent)\n",
    "    word_tokens.extend(words)\n",
    "    "
   ]
  },
  {
   "cell_type": "code",
   "execution_count": 27,
   "metadata": {},
   "outputs": [
    {
     "data": {
      "text/plain": [
       "3487192"
      ]
     },
     "execution_count": 27,
     "metadata": {},
     "output_type": "execute_result"
    }
   ],
   "source": [
    "len(word_tokens)"
   ]
  },
  {
   "cell_type": "code",
   "execution_count": 34,
   "metadata": {},
   "outputs": [],
   "source": [
    "word_tokens = [word for word in word_tokens if len(word)>1] #1글자 초과 단어만 수집"
   ]
  },
  {
   "cell_type": "code",
   "execution_count": 35,
   "metadata": {},
   "outputs": [
    {
     "data": {
      "text/plain": [
       "2818755"
      ]
     },
     "execution_count": 35,
     "metadata": {},
     "output_type": "execute_result"
    }
   ],
   "source": [
    "len(word_tokens)"
   ]
  },
  {
   "cell_type": "code",
   "execution_count": 42,
   "metadata": {},
   "outputs": [
    {
     "name": "stdout",
     "output_type": "stream",
     "text": [
      "광주시립미술관\n",
      "관장\n",
      "황영성\n",
      "2014년\n",
      "광주시립미술관\n",
      "갤러리GMA\n",
      "번째\n",
      "기획전으로\n",
      "남도작가\n",
      "12인\n"
     ]
    }
   ],
   "source": [
    "for w in word_tokens[:10]:\n",
    "    print(w)"
   ]
  },
  {
   "cell_type": "code",
   "execution_count": 64,
   "metadata": {},
   "outputs": [],
   "source": [
    "art2vec =Word2Vec(\n",
    "    sg=1, #skip-gram\n",
    "    workers=cpu_count(),\n",
    "    size=100,\n",
    "    min_count=2,\n",
    "    window=10,\n",
    ")"
   ]
  },
  {
   "cell_type": "code",
   "execution_count": 65,
   "metadata": {},
   "outputs": [],
   "source": [
    "art2vec.build_vocab(sent_tokens)"
   ]
  },
  {
   "cell_type": "code",
   "execution_count": 69,
   "metadata": {},
   "outputs": [
    {
     "data": {
      "text/plain": [
       "183701"
      ]
     },
     "execution_count": 69,
     "metadata": {},
     "output_type": "execute_result"
    }
   ],
   "source": [
    "art2vec.corpus_count"
   ]
  },
  {
   "cell_type": "code",
   "execution_count": 72,
   "metadata": {},
   "outputs": [],
   "source": [
    "art2vec.epochs"
   ]
  },
  {
   "cell_type": "code",
   "execution_count": 78,
   "metadata": {},
   "outputs": [
    {
     "data": {
      "text/plain": [
       "(23237323, 43136931)"
      ]
     },
     "execution_count": 78,
     "metadata": {},
     "output_type": "execute_result"
    }
   ],
   "source": [
    "art2vec.train(sent_tokens,total_examples=art2vec.corpus_count,epochs=3)"
   ]
  },
  {
   "cell_type": "code",
   "execution_count": 81,
   "metadata": {},
   "outputs": [],
   "source": [
    "##모델을 저장하고 불러와서 다시 training시킬 수 있다\n",
    "art2vec.save(r'''art2vec.w2v''')"
   ]
  },
  {
   "cell_type": "code",
   "execution_count": 88,
   "metadata": {},
   "outputs": [],
   "source": [
    "# art2vec.wv.vocab.keys()"
   ]
  },
  {
   "cell_type": "code",
   "execution_count": 80,
   "metadata": {},
   "outputs": [
    {
     "data": {
      "text/plain": [
       "[('읍', 0.6338919401168823),\n",
       " ('▷', 0.580043613910675),\n",
       " ('북', 0.5710780620574951),\n",
       " ('옥', 0.5700820684432983),\n",
       " ('㈜', 0.5688358545303345),\n",
       " ('산', 0.5588215589523315),\n",
       " ('봉', 0.557214617729187),\n",
       " ('※', 0.5569085478782654),\n",
       " ('좡', 0.5554145574569702),\n",
       " ('쏜', 0.5476833581924438)]"
      ]
     },
     "execution_count": 80,
     "metadata": {},
     "output_type": "execute_result"
    }
   ],
   "source": [
    "art2vec.wv.most_similar('광')"
   ]
  },
  {
   "cell_type": "code",
   "execution_count": 82,
   "metadata": {},
   "outputs": [
    {
     "data": {
      "text/plain": [
       "[('形', 0.07049774378538132),\n",
       " ('視', 0.06646951287984848),\n",
       " ('?', 0.05360574275255203),\n",
       " ('工', 0.0509970597922802),\n",
       " ('的', 0.04029640555381775),\n",
       " ('識', 0.030930187553167343),\n",
       " ('態', 0.01797778159379959),\n",
       " ('.', 0.011267516762018204),\n",
       " ('엇', 0.00847981870174408),\n",
       " ('性', 0.004824429750442505)]"
      ]
     },
     "execution_count": 82,
     "metadata": {},
     "output_type": "execute_result"
    }
   ],
   "source": [
    "art2vec.wv.most_similar(negative='광',)"
   ]
  },
  {
   "cell_type": "code",
   "execution_count": null,
   "metadata": {},
   "outputs": [],
   "source": []
  }
 ],
 "metadata": {
  "kernelspec": {
   "display_name": "Python 3",
   "language": "python",
   "name": "python3"
  },
  "language_info": {
   "codemirror_mode": {
    "name": "ipython",
    "version": 3
   },
   "file_extension": ".py",
   "mimetype": "text/x-python",
   "name": "python",
   "nbconvert_exporter": "python",
   "pygments_lexer": "ipython3",
   "version": "3.6.4"
  }
 },
 "nbformat": 4,
 "nbformat_minor": 2
}
